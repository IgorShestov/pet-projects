{
  "nbformat": 4,
  "nbformat_minor": 0,
  "metadata": {
    "colab": {
      "name": "Test_Veraxen.ipynb",
      "provenance": [],
      "collapsed_sections": [],
      "mount_file_id": "1FRImxz9EZLeux4CfL6_1i6z3EamKlRV_",
      "authorship_tag": "ABX9TyOEq2PtkAOD7+xUe/Wx9Voj",
      "include_colab_link": true
    },
    "kernelspec": {
      "display_name": "Python 3",
      "name": "python3"
    },
    "language_info": {
      "name": "python"
    }
  },
  "cells": [
    {
      "cell_type": "markdown",
      "metadata": {
        "id": "view-in-github",
        "colab_type": "text"
      },
      "source": [
        "<a href=\"https://colab.research.google.com/github/IgorShestov/pet-projects/blob/main/Test_Veraxen_V1.ipynb\" target=\"_parent\"><img src=\"https://colab.research.google.com/assets/colab-badge.svg\" alt=\"Open In Colab\"/></a>"
      ]
    },
    {
      "cell_type": "markdown",
      "metadata": {
        "id": "LHeya1Y1S03C"
      },
      "source": [
        "Дано\n",
        "\n",
        "У вас есть два мобильных приложения - A, B.\n",
        "Каждое из них монетизируется рекламой (показывает своим пользователям\n",
        "рекламу) двух типов: interstitial, banner. Вы зарабатываете деньги за показы\n",
        "рекламы.\n",
        "\n",
        "\n",
        "Каждый день команда user acquisition привлекает вам новых пользователей\n",
        "(инсталлы) в приложения A и B посредством маркетинговых каналов P, Q, S.\n",
        "У вас есть все данные о количестве показов interstitial и banner внутри A,B -\n",
        "т.е. для каждого привлеченного пользователя вы знаете его приложение (A\n",
        "или B), канал привлечения (P, Q или S), его страну, когда он был привлечен\n",
        "в приложение, и знаете сколько ему было показано (кол-во показов -\n",
        "interstitial, banner раздельно) рекламы внутри приложения за каждый\\любой\n",
        "день.\n",
        "\n",
        "\n",
        "Одновременно с этим вам известно сколько вы получаете выручки за\n",
        "каждую тысячу показов рекламы interstitial и banner (такая метрика\n",
        "называется eCPM - effective cost per mile).\n",
        "Синтетические данные представлены в .csv файлах"
      ]
    },
    {
      "cell_type": "markdown",
      "metadata": {
        "id": "uEYTC8LjS-Ux"
      },
      "source": [
        "Задача\n",
        "\n",
        "Рассчитать показатель кумулятивного ARPU (average revenue per user) для\n",
        "каждой когорты для каждого дня, сформировать отчет, сделать возможные\n",
        "выводы об эффективности, проанализировать особенности данных."
      ]
    },
    {
      "cell_type": "markdown",
      "metadata": {
        "id": "RW4nKVaak2Z8"
      },
      "source": [
        "Рассматриваться будут подход, пути решения, код, визуализация и выводы."
      ]
    },
    {
      "cell_type": "markdown",
      "metadata": {
        "id": "g5MunTOxlMFq"
      },
      "source": [
        "https://docviewer.yandex.ru/view/401435006/?*=8sBJb1aNaPx056dOuu7%2BR1QX6Ul7InVybCI6InlhLW1haWw6Ly8xNzcwNDc3NjAzNTEwMDM4NjgvMS4yIiwidGl0bGUiOiJEQV9WRVJBWEVOX3Rlc3QuemlwIiwibm9pZnJhbWUiOmZhbHNlLCJ1aWQiOiI0MDE0MzUwMDYiLCJ0cyI6MTYzMTM1OTAwNDAwOSwieXUiOiI4NTAzODYwMzcxNTc3NjI0MzgwIn0%3D"
      ]
    },
    {
      "cell_type": "code",
      "metadata": {
        "id": "gLCD4AsNOkRH"
      },
      "source": [
        "# подгружаем библиотеки\n",
        "# основные\n",
        "import pandas as pd \n",
        "import numpy as np\n",
        "\n",
        "\n",
        "# работа со времинем\n",
        "import datetime\n",
        "from datetime import datetime\n",
        "from datetime import timedelta\n",
        "\n",
        "# статистика\n",
        "from scipy import sparse\n",
        "import scipy.stats as ss\n",
        "\n",
        "# отображение\n",
        "import matplotlib.pyplot as plt\n",
        "import matplotlib.gridspec as gridspec \n",
        "import seaborn as sns"
      ],
      "execution_count": null,
      "outputs": []
    },
    {
      "cell_type": "code",
      "metadata": {
        "id": "hYUECRAbPHu4"
      },
      "source": [
        "# загружаем данные\n",
        "aggr = pd.read_csv('/content/drive/MyDrive/Colab Notebooks/DF/Veraxen/ecpm_aggr.csv')\n",
        "data = pd.read_csv('/content/drive/MyDrive/Colab Notebooks/DF/Veraxen/events_data.csv')"
      ],
      "execution_count": null,
      "outputs": []
    },
    {
      "cell_type": "markdown",
      "metadata": {
        "id": "2WpWlozYPqkX"
      },
      "source": [
        "Блок пред обратобки данных."
      ]
    },
    {
      "cell_type": "code",
      "metadata": {
        "colab": {
          "base_uri": "https://localhost:8080/"
        },
        "id": "Z9evn7iXwjNG",
        "outputId": "52432f6e-42f1-4d49-9252-20076ea92088"
      },
      "source": [
        "aggr.info()"
      ],
      "execution_count": null,
      "outputs": [
        {
          "output_type": "stream",
          "name": "stdout",
          "text": [
            "<class 'pandas.core.frame.DataFrame'>\n",
            "RangeIndex: 6120 entries, 0 to 6119\n",
            "Data columns (total 6 columns):\n",
            " #   Column      Non-Null Count  Dtype  \n",
            "---  ------      --------------  -----  \n",
            " 0   Unnamed: 0  6120 non-null   int64  \n",
            " 1   ecpm_value  6120 non-null   float64\n",
            " 2   date        6120 non-null   object \n",
            " 3   app         6120 non-null   object \n",
            " 4   country     6120 non-null   object \n",
            " 5   ecpm_type   6120 non-null   object \n",
            "dtypes: float64(1), int64(1), object(4)\n",
            "memory usage: 287.0+ KB\n"
          ]
        }
      ]
    },
    {
      "cell_type": "code",
      "metadata": {
        "colab": {
          "base_uri": "https://localhost:8080/"
        },
        "id": "C9FXEJwIOS0B",
        "outputId": "d681a905-abd1-4916-b8a0-609172e3fe73"
      },
      "source": [
        "data.info()"
      ],
      "execution_count": null,
      "outputs": [
        {
          "output_type": "stream",
          "name": "stdout",
          "text": [
            "<class 'pandas.core.frame.DataFrame'>\n",
            "RangeIndex: 835380 entries, 0 to 835379\n",
            "Data columns (total 10 columns):\n",
            " #   Column               Non-Null Count   Dtype  \n",
            "---  ------               --------------   -----  \n",
            " 0   Unnamed: 0           835380 non-null  int64  \n",
            " 1   date                 835380 non-null  object \n",
            " 2   app                  835380 non-null  object \n",
            " 3   version              835380 non-null  float64\n",
            " 4   network              835380 non-null  object \n",
            " 5   event_type           835380 non-null  object \n",
            " 6   installs             835380 non-null  int64  \n",
            " 7   days_after_installs  835380 non-null  int64  \n",
            " 8   country              835380 non-null  object \n",
            " 9   events_amount        835380 non-null  float64\n",
            "dtypes: float64(2), int64(3), object(5)\n",
            "memory usage: 63.7+ MB\n"
          ]
        }
      ]
    },
    {
      "cell_type": "code",
      "metadata": {
        "colab": {
          "base_uri": "https://localhost:8080/",
          "height": 204
        },
        "id": "o-WduCxsYMIZ",
        "outputId": "fe5d46e6-6018-4e38-8c1c-e59ca868756f"
      },
      "source": [
        "aggr.head(5)"
      ],
      "execution_count": null,
      "outputs": [
        {
          "output_type": "execute_result",
          "data": {
            "text/html": [
              "<div>\n",
              "<style scoped>\n",
              "    .dataframe tbody tr th:only-of-type {\n",
              "        vertical-align: middle;\n",
              "    }\n",
              "\n",
              "    .dataframe tbody tr th {\n",
              "        vertical-align: top;\n",
              "    }\n",
              "\n",
              "    .dataframe thead th {\n",
              "        text-align: right;\n",
              "    }\n",
              "</style>\n",
              "<table border=\"1\" class=\"dataframe\">\n",
              "  <thead>\n",
              "    <tr style=\"text-align: right;\">\n",
              "      <th></th>\n",
              "      <th>Unnamed: 0</th>\n",
              "      <th>ecpm_value</th>\n",
              "      <th>date</th>\n",
              "      <th>app</th>\n",
              "      <th>country</th>\n",
              "      <th>ecpm_type</th>\n",
              "    </tr>\n",
              "  </thead>\n",
              "  <tbody>\n",
              "    <tr>\n",
              "      <th>0</th>\n",
              "      <td>0</td>\n",
              "      <td>0.757282</td>\n",
              "      <td>2021-06-04 13:30:27.883259</td>\n",
              "      <td>awesome app A</td>\n",
              "      <td>US</td>\n",
              "      <td>banner</td>\n",
              "    </tr>\n",
              "    <tr>\n",
              "      <th>1</th>\n",
              "      <td>1</td>\n",
              "      <td>0.788831</td>\n",
              "      <td>2021-06-05 13:30:27.883259</td>\n",
              "      <td>awesome app A</td>\n",
              "      <td>US</td>\n",
              "      <td>banner</td>\n",
              "    </tr>\n",
              "    <tr>\n",
              "      <th>2</th>\n",
              "      <td>2</td>\n",
              "      <td>0.796442</td>\n",
              "      <td>2021-06-06 13:30:27.883259</td>\n",
              "      <td>awesome app A</td>\n",
              "      <td>US</td>\n",
              "      <td>banner</td>\n",
              "    </tr>\n",
              "    <tr>\n",
              "      <th>3</th>\n",
              "      <td>3</td>\n",
              "      <td>0.807773</td>\n",
              "      <td>2021-06-07 13:30:27.883259</td>\n",
              "      <td>awesome app A</td>\n",
              "      <td>US</td>\n",
              "      <td>banner</td>\n",
              "    </tr>\n",
              "    <tr>\n",
              "      <th>4</th>\n",
              "      <td>4</td>\n",
              "      <td>0.747525</td>\n",
              "      <td>2021-06-08 13:30:27.883259</td>\n",
              "      <td>awesome app A</td>\n",
              "      <td>US</td>\n",
              "      <td>banner</td>\n",
              "    </tr>\n",
              "  </tbody>\n",
              "</table>\n",
              "</div>"
            ],
            "text/plain": [
              "   Unnamed: 0  ecpm_value  ... country ecpm_type\n",
              "0           0    0.757282  ...      US    banner\n",
              "1           1    0.788831  ...      US    banner\n",
              "2           2    0.796442  ...      US    banner\n",
              "3           3    0.807773  ...      US    banner\n",
              "4           4    0.747525  ...      US    banner\n",
              "\n",
              "[5 rows x 6 columns]"
            ]
          },
          "metadata": {},
          "execution_count": 43
        }
      ]
    },
    {
      "cell_type": "code",
      "metadata": {
        "colab": {
          "base_uri": "https://localhost:8080/",
          "height": 204
        },
        "id": "guHpjZsdRKni",
        "outputId": "6bafe8e5-7f57-491e-84e0-03fd41294d11"
      },
      "source": [
        "aggr.sample(5)"
      ],
      "execution_count": null,
      "outputs": [
        {
          "output_type": "execute_result",
          "data": {
            "text/html": [
              "<div>\n",
              "<style scoped>\n",
              "    .dataframe tbody tr th:only-of-type {\n",
              "        vertical-align: middle;\n",
              "    }\n",
              "\n",
              "    .dataframe tbody tr th {\n",
              "        vertical-align: top;\n",
              "    }\n",
              "\n",
              "    .dataframe thead th {\n",
              "        text-align: right;\n",
              "    }\n",
              "</style>\n",
              "<table border=\"1\" class=\"dataframe\">\n",
              "  <thead>\n",
              "    <tr style=\"text-align: right;\">\n",
              "      <th></th>\n",
              "      <th>Unnamed: 0</th>\n",
              "      <th>ecpm_value</th>\n",
              "      <th>date</th>\n",
              "      <th>app</th>\n",
              "      <th>country</th>\n",
              "      <th>ecpm_type</th>\n",
              "    </tr>\n",
              "  </thead>\n",
              "  <tbody>\n",
              "    <tr>\n",
              "      <th>5544</th>\n",
              "      <td>54</td>\n",
              "      <td>8.656769</td>\n",
              "      <td>2021-07-28 13:30:27.883259</td>\n",
              "      <td>brilliant app B</td>\n",
              "      <td>ID</td>\n",
              "      <td>interstitial</td>\n",
              "    </tr>\n",
              "    <tr>\n",
              "      <th>6065</th>\n",
              "      <td>35</td>\n",
              "      <td>9.473233</td>\n",
              "      <td>2021-07-09 13:30:27.883259</td>\n",
              "      <td>brilliant app B</td>\n",
              "      <td>ES</td>\n",
              "      <td>interstitial</td>\n",
              "    </tr>\n",
              "    <tr>\n",
              "      <th>1249</th>\n",
              "      <td>79</td>\n",
              "      <td>10.996923</td>\n",
              "      <td>2021-08-22 13:30:27.883259</td>\n",
              "      <td>awesome app A</td>\n",
              "      <td>DE</td>\n",
              "      <td>interstitial</td>\n",
              "    </tr>\n",
              "    <tr>\n",
              "      <th>69</th>\n",
              "      <td>69</td>\n",
              "      <td>0.758726</td>\n",
              "      <td>2021-08-12 13:30:27.883259</td>\n",
              "      <td>awesome app A</td>\n",
              "      <td>US</td>\n",
              "      <td>banner</td>\n",
              "    </tr>\n",
              "    <tr>\n",
              "      <th>131</th>\n",
              "      <td>41</td>\n",
              "      <td>11.378557</td>\n",
              "      <td>2021-07-15 13:30:27.883259</td>\n",
              "      <td>awesome app A</td>\n",
              "      <td>US</td>\n",
              "      <td>interstitial</td>\n",
              "    </tr>\n",
              "  </tbody>\n",
              "</table>\n",
              "</div>"
            ],
            "text/plain": [
              "      Unnamed: 0  ecpm_value  ... country     ecpm_type\n",
              "5544          54    8.656769  ...      ID  interstitial\n",
              "6065          35    9.473233  ...      ES  interstitial\n",
              "1249          79   10.996923  ...      DE  interstitial\n",
              "69            69    0.758726  ...      US        banner\n",
              "131           41   11.378557  ...      US  interstitial\n",
              "\n",
              "[5 rows x 6 columns]"
            ]
          },
          "metadata": {},
          "execution_count": 44
        }
      ]
    },
    {
      "cell_type": "code",
      "metadata": {
        "colab": {
          "base_uri": "https://localhost:8080/",
          "height": 204
        },
        "id": "4gwBg1nFYMLd",
        "outputId": "84f75375-336b-4c98-e99a-7847c880dc23"
      },
      "source": [
        "data.head(5)"
      ],
      "execution_count": null,
      "outputs": [
        {
          "output_type": "execute_result",
          "data": {
            "text/html": [
              "<div>\n",
              "<style scoped>\n",
              "    .dataframe tbody tr th:only-of-type {\n",
              "        vertical-align: middle;\n",
              "    }\n",
              "\n",
              "    .dataframe tbody tr th {\n",
              "        vertical-align: top;\n",
              "    }\n",
              "\n",
              "    .dataframe thead th {\n",
              "        text-align: right;\n",
              "    }\n",
              "</style>\n",
              "<table border=\"1\" class=\"dataframe\">\n",
              "  <thead>\n",
              "    <tr style=\"text-align: right;\">\n",
              "      <th></th>\n",
              "      <th>Unnamed: 0</th>\n",
              "      <th>date</th>\n",
              "      <th>app</th>\n",
              "      <th>version</th>\n",
              "      <th>network</th>\n",
              "      <th>event_type</th>\n",
              "      <th>installs</th>\n",
              "      <th>days_after_installs</th>\n",
              "      <th>country</th>\n",
              "      <th>events_amount</th>\n",
              "    </tr>\n",
              "  </thead>\n",
              "  <tbody>\n",
              "    <tr>\n",
              "      <th>0</th>\n",
              "      <td>0</td>\n",
              "      <td>2021-06-30 14:25:35.063117</td>\n",
              "      <td>awesome app A</td>\n",
              "      <td>1.0</td>\n",
              "      <td>AdNetwork P</td>\n",
              "      <td>interstitial</td>\n",
              "      <td>95897</td>\n",
              "      <td>0</td>\n",
              "      <td>US</td>\n",
              "      <td>757128.0</td>\n",
              "    </tr>\n",
              "    <tr>\n",
              "      <th>1</th>\n",
              "      <td>1</td>\n",
              "      <td>2021-06-30 14:25:35.063117</td>\n",
              "      <td>awesome app A</td>\n",
              "      <td>1.0</td>\n",
              "      <td>AdNetwork P</td>\n",
              "      <td>interstitial</td>\n",
              "      <td>95897</td>\n",
              "      <td>1</td>\n",
              "      <td>US</td>\n",
              "      <td>799973.0</td>\n",
              "    </tr>\n",
              "    <tr>\n",
              "      <th>2</th>\n",
              "      <td>2</td>\n",
              "      <td>2021-06-30 14:25:35.063117</td>\n",
              "      <td>awesome app A</td>\n",
              "      <td>1.0</td>\n",
              "      <td>AdNetwork P</td>\n",
              "      <td>interstitial</td>\n",
              "      <td>95897</td>\n",
              "      <td>2</td>\n",
              "      <td>US</td>\n",
              "      <td>655098.0</td>\n",
              "    </tr>\n",
              "    <tr>\n",
              "      <th>3</th>\n",
              "      <td>3</td>\n",
              "      <td>2021-06-30 14:25:35.063117</td>\n",
              "      <td>awesome app A</td>\n",
              "      <td>1.0</td>\n",
              "      <td>AdNetwork P</td>\n",
              "      <td>interstitial</td>\n",
              "      <td>95897</td>\n",
              "      <td>3</td>\n",
              "      <td>US</td>\n",
              "      <td>713709.0</td>\n",
              "    </tr>\n",
              "    <tr>\n",
              "      <th>4</th>\n",
              "      <td>4</td>\n",
              "      <td>2021-06-30 14:25:35.063117</td>\n",
              "      <td>awesome app A</td>\n",
              "      <td>1.0</td>\n",
              "      <td>AdNetwork P</td>\n",
              "      <td>interstitial</td>\n",
              "      <td>95897</td>\n",
              "      <td>4</td>\n",
              "      <td>US</td>\n",
              "      <td>588658.0</td>\n",
              "    </tr>\n",
              "  </tbody>\n",
              "</table>\n",
              "</div>"
            ],
            "text/plain": [
              "   Unnamed: 0                        date  ... country  events_amount\n",
              "0           0  2021-06-30 14:25:35.063117  ...      US       757128.0\n",
              "1           1  2021-06-30 14:25:35.063117  ...      US       799973.0\n",
              "2           2  2021-06-30 14:25:35.063117  ...      US       655098.0\n",
              "3           3  2021-06-30 14:25:35.063117  ...      US       713709.0\n",
              "4           4  2021-06-30 14:25:35.063117  ...      US       588658.0\n",
              "\n",
              "[5 rows x 10 columns]"
            ]
          },
          "metadata": {},
          "execution_count": 45
        }
      ]
    },
    {
      "cell_type": "code",
      "metadata": {
        "colab": {
          "base_uri": "https://localhost:8080/",
          "height": 204
        },
        "id": "l5tS47FhRKda",
        "outputId": "ed6326a9-1846-4a14-a697-078700c29ac8"
      },
      "source": [
        "data.sample(5)"
      ],
      "execution_count": null,
      "outputs": [
        {
          "output_type": "execute_result",
          "data": {
            "text/html": [
              "<div>\n",
              "<style scoped>\n",
              "    .dataframe tbody tr th:only-of-type {\n",
              "        vertical-align: middle;\n",
              "    }\n",
              "\n",
              "    .dataframe tbody tr th {\n",
              "        vertical-align: top;\n",
              "    }\n",
              "\n",
              "    .dataframe thead th {\n",
              "        text-align: right;\n",
              "    }\n",
              "</style>\n",
              "<table border=\"1\" class=\"dataframe\">\n",
              "  <thead>\n",
              "    <tr style=\"text-align: right;\">\n",
              "      <th></th>\n",
              "      <th>Unnamed: 0</th>\n",
              "      <th>date</th>\n",
              "      <th>app</th>\n",
              "      <th>version</th>\n",
              "      <th>network</th>\n",
              "      <th>event_type</th>\n",
              "      <th>installs</th>\n",
              "      <th>days_after_installs</th>\n",
              "      <th>country</th>\n",
              "      <th>events_amount</th>\n",
              "    </tr>\n",
              "  </thead>\n",
              "  <tbody>\n",
              "    <tr>\n",
              "      <th>248979</th>\n",
              "      <td>9</td>\n",
              "      <td>2021-07-16 14:25:35.063117</td>\n",
              "      <td>awesome app A</td>\n",
              "      <td>1.1</td>\n",
              "      <td>AdNetwork P</td>\n",
              "      <td>interstitial</td>\n",
              "      <td>86800</td>\n",
              "      <td>9</td>\n",
              "      <td>IN</td>\n",
              "      <td>378233.0</td>\n",
              "    </tr>\n",
              "    <tr>\n",
              "      <th>383759</th>\n",
              "      <td>17</td>\n",
              "      <td>2021-08-03 14:25:35.063117</td>\n",
              "      <td>awesome app A</td>\n",
              "      <td>2.0</td>\n",
              "      <td>AdNetwork Q</td>\n",
              "      <td>banner</td>\n",
              "      <td>120571</td>\n",
              "      <td>17</td>\n",
              "      <td>GB</td>\n",
              "      <td>5282016.0</td>\n",
              "    </tr>\n",
              "    <tr>\n",
              "      <th>379978</th>\n",
              "      <td>15</td>\n",
              "      <td>2021-08-16 14:25:35.063117</td>\n",
              "      <td>awesome app A</td>\n",
              "      <td>2.0</td>\n",
              "      <td>AdNetwork P</td>\n",
              "      <td>banner</td>\n",
              "      <td>100668</td>\n",
              "      <td>15</td>\n",
              "      <td>IT</td>\n",
              "      <td>3940642.0</td>\n",
              "    </tr>\n",
              "    <tr>\n",
              "      <th>548443</th>\n",
              "      <td>19</td>\n",
              "      <td>2021-07-16 14:25:35.063117</td>\n",
              "      <td>brilliant app B</td>\n",
              "      <td>2.0</td>\n",
              "      <td>AdNetwork Q</td>\n",
              "      <td>banner</td>\n",
              "      <td>111722</td>\n",
              "      <td>19</td>\n",
              "      <td>RU</td>\n",
              "      <td>3797463.0</td>\n",
              "    </tr>\n",
              "    <tr>\n",
              "      <th>18430</th>\n",
              "      <td>54</td>\n",
              "      <td>2021-06-18 14:25:35.063117</td>\n",
              "      <td>awesome app A</td>\n",
              "      <td>1.0</td>\n",
              "      <td>AdNetwork P</td>\n",
              "      <td>banner</td>\n",
              "      <td>92778</td>\n",
              "      <td>54</td>\n",
              "      <td>RU</td>\n",
              "      <td>363773.0</td>\n",
              "    </tr>\n",
              "  </tbody>\n",
              "</table>\n",
              "</div>"
            ],
            "text/plain": [
              "        Unnamed: 0                        date  ... country  events_amount\n",
              "248979           9  2021-07-16 14:25:35.063117  ...      IN       378233.0\n",
              "383759          17  2021-08-03 14:25:35.063117  ...      GB      5282016.0\n",
              "379978          15  2021-08-16 14:25:35.063117  ...      IT      3940642.0\n",
              "548443          19  2021-07-16 14:25:35.063117  ...      RU      3797463.0\n",
              "18430           54  2021-06-18 14:25:35.063117  ...      RU       363773.0\n",
              "\n",
              "[5 rows x 10 columns]"
            ]
          },
          "metadata": {},
          "execution_count": 46
        }
      ]
    },
    {
      "cell_type": "code",
      "metadata": {
        "id": "ZlUW2JSAWoI4"
      },
      "source": [
        "# все данные из колонки date переводим в таймстемп.\n",
        "date_timestemp =pd.to_datetime(data.date, format=\"%Y-%m-%d\")"
      ],
      "execution_count": null,
      "outputs": []
    },
    {
      "cell_type": "code",
      "metadata": {
        "id": "8Bus19mcSk1y"
      },
      "source": [
        "# создаю отдельный DataFrame для создания дат для набора данных data\n",
        "DataFrame_data_dated = pd.DataFrame()\n",
        "DataFrame_data_dated['day']= pd.to_datetime(data['date']) + data['days_after_installs'].map(timedelta)\n",
        "DataFrame_data_dated['start_day']= pd.to_datetime(data['date']).dt.date\n",
        "DataFrame_data_dated['actual_date'] = DataFrame_data_dated['day'].dt.date"
      ],
      "execution_count": null,
      "outputs": []
    },
    {
      "cell_type": "code",
      "metadata": {
        "colab": {
          "base_uri": "https://localhost:8080/",
          "height": 204
        },
        "id": "rV7oRNcaFRWe",
        "outputId": "2d05dc02-b4a4-4255-acd3-b59d3cc1384e"
      },
      "source": [
        "# проверяю на правильность выполнения\n",
        "DataFrame_data_dated.head()"
      ],
      "execution_count": null,
      "outputs": [
        {
          "output_type": "execute_result",
          "data": {
            "text/html": [
              "<div>\n",
              "<style scoped>\n",
              "    .dataframe tbody tr th:only-of-type {\n",
              "        vertical-align: middle;\n",
              "    }\n",
              "\n",
              "    .dataframe tbody tr th {\n",
              "        vertical-align: top;\n",
              "    }\n",
              "\n",
              "    .dataframe thead th {\n",
              "        text-align: right;\n",
              "    }\n",
              "</style>\n",
              "<table border=\"1\" class=\"dataframe\">\n",
              "  <thead>\n",
              "    <tr style=\"text-align: right;\">\n",
              "      <th></th>\n",
              "      <th>day</th>\n",
              "      <th>start_day</th>\n",
              "      <th>actual_date</th>\n",
              "    </tr>\n",
              "  </thead>\n",
              "  <tbody>\n",
              "    <tr>\n",
              "      <th>0</th>\n",
              "      <td>2021-06-30 14:25:35.063117</td>\n",
              "      <td>2021-06-30</td>\n",
              "      <td>2021-06-30</td>\n",
              "    </tr>\n",
              "    <tr>\n",
              "      <th>1</th>\n",
              "      <td>2021-07-01 14:25:35.063117</td>\n",
              "      <td>2021-06-30</td>\n",
              "      <td>2021-07-01</td>\n",
              "    </tr>\n",
              "    <tr>\n",
              "      <th>2</th>\n",
              "      <td>2021-07-02 14:25:35.063117</td>\n",
              "      <td>2021-06-30</td>\n",
              "      <td>2021-07-02</td>\n",
              "    </tr>\n",
              "    <tr>\n",
              "      <th>3</th>\n",
              "      <td>2021-07-03 14:25:35.063117</td>\n",
              "      <td>2021-06-30</td>\n",
              "      <td>2021-07-03</td>\n",
              "    </tr>\n",
              "    <tr>\n",
              "      <th>4</th>\n",
              "      <td>2021-07-04 14:25:35.063117</td>\n",
              "      <td>2021-06-30</td>\n",
              "      <td>2021-07-04</td>\n",
              "    </tr>\n",
              "  </tbody>\n",
              "</table>\n",
              "</div>"
            ],
            "text/plain": [
              "                         day   start_day actual_date\n",
              "0 2021-06-30 14:25:35.063117  2021-06-30  2021-06-30\n",
              "1 2021-07-01 14:25:35.063117  2021-06-30  2021-07-01\n",
              "2 2021-07-02 14:25:35.063117  2021-06-30  2021-07-02\n",
              "3 2021-07-03 14:25:35.063117  2021-06-30  2021-07-03\n",
              "4 2021-07-04 14:25:35.063117  2021-06-30  2021-07-04"
            ]
          },
          "metadata": {},
          "execution_count": 49
        }
      ]
    },
    {
      "cell_type": "code",
      "metadata": {
        "colab": {
          "base_uri": "https://localhost:8080/",
          "height": 420
        },
        "id": "V3Yz_mgPJbW3",
        "outputId": "5ad3742b-a618-4a3c-90a0-d85d0b9b21cb"
      },
      "source": [
        "# создаем новый dataframe объединяя 2 существующих\n",
        "data_act = pd.concat([data , DataFrame_data_dated], axis=1)\n",
        "# проверяю на правильность выполнения\n",
        "data_act"
      ],
      "execution_count": null,
      "outputs": [
        {
          "output_type": "execute_result",
          "data": {
            "text/html": [
              "<div>\n",
              "<style scoped>\n",
              "    .dataframe tbody tr th:only-of-type {\n",
              "        vertical-align: middle;\n",
              "    }\n",
              "\n",
              "    .dataframe tbody tr th {\n",
              "        vertical-align: top;\n",
              "    }\n",
              "\n",
              "    .dataframe thead th {\n",
              "        text-align: right;\n",
              "    }\n",
              "</style>\n",
              "<table border=\"1\" class=\"dataframe\">\n",
              "  <thead>\n",
              "    <tr style=\"text-align: right;\">\n",
              "      <th></th>\n",
              "      <th>Unnamed: 0</th>\n",
              "      <th>date</th>\n",
              "      <th>app</th>\n",
              "      <th>version</th>\n",
              "      <th>network</th>\n",
              "      <th>event_type</th>\n",
              "      <th>installs</th>\n",
              "      <th>days_after_installs</th>\n",
              "      <th>country</th>\n",
              "      <th>events_amount</th>\n",
              "      <th>day</th>\n",
              "      <th>start_day</th>\n",
              "      <th>actual_date</th>\n",
              "    </tr>\n",
              "  </thead>\n",
              "  <tbody>\n",
              "    <tr>\n",
              "      <th>0</th>\n",
              "      <td>0</td>\n",
              "      <td>2021-06-30 14:25:35.063117</td>\n",
              "      <td>awesome app A</td>\n",
              "      <td>1.0</td>\n",
              "      <td>AdNetwork P</td>\n",
              "      <td>interstitial</td>\n",
              "      <td>95897</td>\n",
              "      <td>0</td>\n",
              "      <td>US</td>\n",
              "      <td>757128.0</td>\n",
              "      <td>2021-06-30 14:25:35.063117</td>\n",
              "      <td>2021-06-30</td>\n",
              "      <td>2021-06-30</td>\n",
              "    </tr>\n",
              "    <tr>\n",
              "      <th>1</th>\n",
              "      <td>1</td>\n",
              "      <td>2021-06-30 14:25:35.063117</td>\n",
              "      <td>awesome app A</td>\n",
              "      <td>1.0</td>\n",
              "      <td>AdNetwork P</td>\n",
              "      <td>interstitial</td>\n",
              "      <td>95897</td>\n",
              "      <td>1</td>\n",
              "      <td>US</td>\n",
              "      <td>799973.0</td>\n",
              "      <td>2021-07-01 14:25:35.063117</td>\n",
              "      <td>2021-06-30</td>\n",
              "      <td>2021-07-01</td>\n",
              "    </tr>\n",
              "    <tr>\n",
              "      <th>2</th>\n",
              "      <td>2</td>\n",
              "      <td>2021-06-30 14:25:35.063117</td>\n",
              "      <td>awesome app A</td>\n",
              "      <td>1.0</td>\n",
              "      <td>AdNetwork P</td>\n",
              "      <td>interstitial</td>\n",
              "      <td>95897</td>\n",
              "      <td>2</td>\n",
              "      <td>US</td>\n",
              "      <td>655098.0</td>\n",
              "      <td>2021-07-02 14:25:35.063117</td>\n",
              "      <td>2021-06-30</td>\n",
              "      <td>2021-07-02</td>\n",
              "    </tr>\n",
              "    <tr>\n",
              "      <th>3</th>\n",
              "      <td>3</td>\n",
              "      <td>2021-06-30 14:25:35.063117</td>\n",
              "      <td>awesome app A</td>\n",
              "      <td>1.0</td>\n",
              "      <td>AdNetwork P</td>\n",
              "      <td>interstitial</td>\n",
              "      <td>95897</td>\n",
              "      <td>3</td>\n",
              "      <td>US</td>\n",
              "      <td>713709.0</td>\n",
              "      <td>2021-07-03 14:25:35.063117</td>\n",
              "      <td>2021-06-30</td>\n",
              "      <td>2021-07-03</td>\n",
              "    </tr>\n",
              "    <tr>\n",
              "      <th>4</th>\n",
              "      <td>4</td>\n",
              "      <td>2021-06-30 14:25:35.063117</td>\n",
              "      <td>awesome app A</td>\n",
              "      <td>1.0</td>\n",
              "      <td>AdNetwork P</td>\n",
              "      <td>interstitial</td>\n",
              "      <td>95897</td>\n",
              "      <td>4</td>\n",
              "      <td>US</td>\n",
              "      <td>588658.0</td>\n",
              "      <td>2021-07-04 14:25:35.063117</td>\n",
              "      <td>2021-06-30</td>\n",
              "      <td>2021-07-04</td>\n",
              "    </tr>\n",
              "    <tr>\n",
              "      <th>...</th>\n",
              "      <td>...</td>\n",
              "      <td>...</td>\n",
              "      <td>...</td>\n",
              "      <td>...</td>\n",
              "      <td>...</td>\n",
              "      <td>...</td>\n",
              "      <td>...</td>\n",
              "      <td>...</td>\n",
              "      <td>...</td>\n",
              "      <td>...</td>\n",
              "      <td>...</td>\n",
              "      <td>...</td>\n",
              "      <td>...</td>\n",
              "    </tr>\n",
              "    <tr>\n",
              "      <th>835375</th>\n",
              "      <td>39</td>\n",
              "      <td>2021-07-20 14:25:35.063117</td>\n",
              "      <td>brilliant app B</td>\n",
              "      <td>2.2</td>\n",
              "      <td>AdNetwork S</td>\n",
              "      <td>banner</td>\n",
              "      <td>72281</td>\n",
              "      <td>39</td>\n",
              "      <td>ES</td>\n",
              "      <td>1125075.0</td>\n",
              "      <td>2021-08-28 14:25:35.063117</td>\n",
              "      <td>2021-07-20</td>\n",
              "      <td>2021-08-28</td>\n",
              "    </tr>\n",
              "    <tr>\n",
              "      <th>835376</th>\n",
              "      <td>40</td>\n",
              "      <td>2021-07-20 14:25:35.063117</td>\n",
              "      <td>brilliant app B</td>\n",
              "      <td>2.2</td>\n",
              "      <td>AdNetwork S</td>\n",
              "      <td>banner</td>\n",
              "      <td>72281</td>\n",
              "      <td>40</td>\n",
              "      <td>ES</td>\n",
              "      <td>1366665.0</td>\n",
              "      <td>2021-08-29 14:25:35.063117</td>\n",
              "      <td>2021-07-20</td>\n",
              "      <td>2021-08-29</td>\n",
              "    </tr>\n",
              "    <tr>\n",
              "      <th>835377</th>\n",
              "      <td>41</td>\n",
              "      <td>2021-07-20 14:25:35.063117</td>\n",
              "      <td>brilliant app B</td>\n",
              "      <td>2.2</td>\n",
              "      <td>AdNetwork S</td>\n",
              "      <td>banner</td>\n",
              "      <td>72281</td>\n",
              "      <td>41</td>\n",
              "      <td>ES</td>\n",
              "      <td>1069572.0</td>\n",
              "      <td>2021-08-30 14:25:35.063117</td>\n",
              "      <td>2021-07-20</td>\n",
              "      <td>2021-08-30</td>\n",
              "    </tr>\n",
              "    <tr>\n",
              "      <th>835378</th>\n",
              "      <td>42</td>\n",
              "      <td>2021-07-20 14:25:35.063117</td>\n",
              "      <td>brilliant app B</td>\n",
              "      <td>2.2</td>\n",
              "      <td>AdNetwork S</td>\n",
              "      <td>banner</td>\n",
              "      <td>72281</td>\n",
              "      <td>42</td>\n",
              "      <td>ES</td>\n",
              "      <td>1354628.0</td>\n",
              "      <td>2021-08-31 14:25:35.063117</td>\n",
              "      <td>2021-07-20</td>\n",
              "      <td>2021-08-31</td>\n",
              "    </tr>\n",
              "    <tr>\n",
              "      <th>835379</th>\n",
              "      <td>43</td>\n",
              "      <td>2021-07-20 14:25:35.063117</td>\n",
              "      <td>brilliant app B</td>\n",
              "      <td>2.2</td>\n",
              "      <td>AdNetwork S</td>\n",
              "      <td>banner</td>\n",
              "      <td>72281</td>\n",
              "      <td>43</td>\n",
              "      <td>ES</td>\n",
              "      <td>1265998.0</td>\n",
              "      <td>2021-09-01 14:25:35.063117</td>\n",
              "      <td>2021-07-20</td>\n",
              "      <td>2021-09-01</td>\n",
              "    </tr>\n",
              "  </tbody>\n",
              "</table>\n",
              "<p>835380 rows × 13 columns</p>\n",
              "</div>"
            ],
            "text/plain": [
              "        Unnamed: 0                        date  ...   start_day  actual_date\n",
              "0                0  2021-06-30 14:25:35.063117  ...  2021-06-30   2021-06-30\n",
              "1                1  2021-06-30 14:25:35.063117  ...  2021-06-30   2021-07-01\n",
              "2                2  2021-06-30 14:25:35.063117  ...  2021-06-30   2021-07-02\n",
              "3                3  2021-06-30 14:25:35.063117  ...  2021-06-30   2021-07-03\n",
              "4                4  2021-06-30 14:25:35.063117  ...  2021-06-30   2021-07-04\n",
              "...            ...                         ...  ...         ...          ...\n",
              "835375          39  2021-07-20 14:25:35.063117  ...  2021-07-20   2021-08-28\n",
              "835376          40  2021-07-20 14:25:35.063117  ...  2021-07-20   2021-08-29\n",
              "835377          41  2021-07-20 14:25:35.063117  ...  2021-07-20   2021-08-30\n",
              "835378          42  2021-07-20 14:25:35.063117  ...  2021-07-20   2021-08-31\n",
              "835379          43  2021-07-20 14:25:35.063117  ...  2021-07-20   2021-09-01\n",
              "\n",
              "[835380 rows x 13 columns]"
            ]
          },
          "metadata": {},
          "execution_count": 50
        }
      ]
    },
    {
      "cell_type": "code",
      "metadata": {
        "id": "ywo0fVUUm6lH"
      },
      "source": [
        "# повторяю для aggr\n",
        "DataFrame_aggr_dated = pd.DataFrame()\n",
        "DataFrame_aggr_dated['actual_date'] = pd.to_datetime(aggr['date']).dt.date"
      ],
      "execution_count": null,
      "outputs": []
    },
    {
      "cell_type": "code",
      "metadata": {
        "colab": {
          "base_uri": "https://localhost:8080/",
          "height": 204
        },
        "id": "455QOG1um6iI",
        "outputId": "f8cc043d-535c-467f-eb34-ac799f89b9cc"
      },
      "source": [
        "# проверяю на правильность выполнения\n",
        "DataFrame_aggr_dated.head()"
      ],
      "execution_count": null,
      "outputs": [
        {
          "output_type": "execute_result",
          "data": {
            "text/html": [
              "<div>\n",
              "<style scoped>\n",
              "    .dataframe tbody tr th:only-of-type {\n",
              "        vertical-align: middle;\n",
              "    }\n",
              "\n",
              "    .dataframe tbody tr th {\n",
              "        vertical-align: top;\n",
              "    }\n",
              "\n",
              "    .dataframe thead th {\n",
              "        text-align: right;\n",
              "    }\n",
              "</style>\n",
              "<table border=\"1\" class=\"dataframe\">\n",
              "  <thead>\n",
              "    <tr style=\"text-align: right;\">\n",
              "      <th></th>\n",
              "      <th>actual_date</th>\n",
              "    </tr>\n",
              "  </thead>\n",
              "  <tbody>\n",
              "    <tr>\n",
              "      <th>0</th>\n",
              "      <td>2021-06-04</td>\n",
              "    </tr>\n",
              "    <tr>\n",
              "      <th>1</th>\n",
              "      <td>2021-06-05</td>\n",
              "    </tr>\n",
              "    <tr>\n",
              "      <th>2</th>\n",
              "      <td>2021-06-06</td>\n",
              "    </tr>\n",
              "    <tr>\n",
              "      <th>3</th>\n",
              "      <td>2021-06-07</td>\n",
              "    </tr>\n",
              "    <tr>\n",
              "      <th>4</th>\n",
              "      <td>2021-06-08</td>\n",
              "    </tr>\n",
              "  </tbody>\n",
              "</table>\n",
              "</div>"
            ],
            "text/plain": [
              "  actual_date\n",
              "0  2021-06-04\n",
              "1  2021-06-05\n",
              "2  2021-06-06\n",
              "3  2021-06-07\n",
              "4  2021-06-08"
            ]
          },
          "metadata": {},
          "execution_count": 52
        }
      ]
    },
    {
      "cell_type": "code",
      "metadata": {
        "colab": {
          "base_uri": "https://localhost:8080/",
          "height": 204
        },
        "id": "at4U0xGRFxKL",
        "outputId": "0a636ee6-9cb5-486b-f649-6ebbff4f6c6d"
      },
      "source": [
        "# создаем новый dataframe объединяя 2 существующих\n",
        "aggr_act = pd.concat([aggr , DataFrame_aggr_dated], axis=1)\n",
        "# проверяю на правильность выполнения\n",
        "aggr_act.head()"
      ],
      "execution_count": null,
      "outputs": [
        {
          "output_type": "execute_result",
          "data": {
            "text/html": [
              "<div>\n",
              "<style scoped>\n",
              "    .dataframe tbody tr th:only-of-type {\n",
              "        vertical-align: middle;\n",
              "    }\n",
              "\n",
              "    .dataframe tbody tr th {\n",
              "        vertical-align: top;\n",
              "    }\n",
              "\n",
              "    .dataframe thead th {\n",
              "        text-align: right;\n",
              "    }\n",
              "</style>\n",
              "<table border=\"1\" class=\"dataframe\">\n",
              "  <thead>\n",
              "    <tr style=\"text-align: right;\">\n",
              "      <th></th>\n",
              "      <th>Unnamed: 0</th>\n",
              "      <th>ecpm_value</th>\n",
              "      <th>date</th>\n",
              "      <th>app</th>\n",
              "      <th>country</th>\n",
              "      <th>ecpm_type</th>\n",
              "      <th>actual_date</th>\n",
              "    </tr>\n",
              "  </thead>\n",
              "  <tbody>\n",
              "    <tr>\n",
              "      <th>0</th>\n",
              "      <td>0</td>\n",
              "      <td>0.757282</td>\n",
              "      <td>2021-06-04 13:30:27.883259</td>\n",
              "      <td>awesome app A</td>\n",
              "      <td>US</td>\n",
              "      <td>banner</td>\n",
              "      <td>2021-06-04</td>\n",
              "    </tr>\n",
              "    <tr>\n",
              "      <th>1</th>\n",
              "      <td>1</td>\n",
              "      <td>0.788831</td>\n",
              "      <td>2021-06-05 13:30:27.883259</td>\n",
              "      <td>awesome app A</td>\n",
              "      <td>US</td>\n",
              "      <td>banner</td>\n",
              "      <td>2021-06-05</td>\n",
              "    </tr>\n",
              "    <tr>\n",
              "      <th>2</th>\n",
              "      <td>2</td>\n",
              "      <td>0.796442</td>\n",
              "      <td>2021-06-06 13:30:27.883259</td>\n",
              "      <td>awesome app A</td>\n",
              "      <td>US</td>\n",
              "      <td>banner</td>\n",
              "      <td>2021-06-06</td>\n",
              "    </tr>\n",
              "    <tr>\n",
              "      <th>3</th>\n",
              "      <td>3</td>\n",
              "      <td>0.807773</td>\n",
              "      <td>2021-06-07 13:30:27.883259</td>\n",
              "      <td>awesome app A</td>\n",
              "      <td>US</td>\n",
              "      <td>banner</td>\n",
              "      <td>2021-06-07</td>\n",
              "    </tr>\n",
              "    <tr>\n",
              "      <th>4</th>\n",
              "      <td>4</td>\n",
              "      <td>0.747525</td>\n",
              "      <td>2021-06-08 13:30:27.883259</td>\n",
              "      <td>awesome app A</td>\n",
              "      <td>US</td>\n",
              "      <td>banner</td>\n",
              "      <td>2021-06-08</td>\n",
              "    </tr>\n",
              "  </tbody>\n",
              "</table>\n",
              "</div>"
            ],
            "text/plain": [
              "   Unnamed: 0  ecpm_value  ... ecpm_type actual_date\n",
              "0           0    0.757282  ...    banner  2021-06-04\n",
              "1           1    0.788831  ...    banner  2021-06-05\n",
              "2           2    0.796442  ...    banner  2021-06-06\n",
              "3           3    0.807773  ...    banner  2021-06-07\n",
              "4           4    0.747525  ...    banner  2021-06-08\n",
              "\n",
              "[5 rows x 7 columns]"
            ]
          },
          "metadata": {},
          "execution_count": 53
        }
      ]
    },
    {
      "cell_type": "code",
      "metadata": {
        "id": "M2BVHWWxNePA"
      },
      "source": [
        "aggr_act.drop(columns=['Unnamed: 0', 'date'], inplace=True)\n",
        "aggr_act.rename(columns={\"ecpm_type\": \"event_type\"},inplace=True)"
      ],
      "execution_count": null,
      "outputs": []
    },
    {
      "cell_type": "code",
      "metadata": {
        "colab": {
          "base_uri": "https://localhost:8080/",
          "height": 180
        },
        "id": "egbgUK2uOfuW",
        "outputId": "be9c422a-744e-426b-b554-2cf3e6529a21"
      },
      "source": [
        "# проверяю на правильность выполнения\n",
        "aggr_act"
      ],
      "execution_count": 2,
      "outputs": [
        {
          "output_type": "error",
          "ename": "NameError",
          "evalue": "ignored",
          "traceback": [
            "\u001b[0;31m---------------------------------------------------------------------------\u001b[0m",
            "\u001b[0;31mNameError\u001b[0m                                 Traceback (most recent call last)",
            "\u001b[0;32m<ipython-input-2-d3ed81a833b0>\u001b[0m in \u001b[0;36m<module>\u001b[0;34m()\u001b[0m\n\u001b[1;32m      1\u001b[0m \u001b[0;31m# проверяю на правильность выполнения\u001b[0m\u001b[0;34m\u001b[0m\u001b[0;34m\u001b[0m\u001b[0;34m\u001b[0m\u001b[0m\n\u001b[0;32m----> 2\u001b[0;31m \u001b[0maggr_act\u001b[0m\u001b[0;34m\u001b[0m\u001b[0;34m\u001b[0m\u001b[0m\n\u001b[0m",
            "\u001b[0;31mNameError\u001b[0m: name 'aggr_act' is not defined"
          ]
        }
      ]
    },
    {
      "cell_type": "code",
      "metadata": {
        "id": "ETf5lPdGGV-w"
      },
      "source": [
        "# соединяем 2 таблицы в одну \n",
        "data_m =data_act.merge(aggr_act, how='outer')"
      ],
      "execution_count": null,
      "outputs": []
    },
    {
      "cell_type": "code",
      "metadata": {
        "colab": {
          "base_uri": "https://localhost:8080/"
        },
        "id": "1sCO7kauFxOl",
        "outputId": "3801ba6d-061b-4dfe-aae3-0d22a3f4b568"
      },
      "source": [
        "# проверяем правильность выполнения\n",
        "data_m.info()"
      ],
      "execution_count": null,
      "outputs": [
        {
          "output_type": "stream",
          "name": "stdout",
          "text": [
            "<class 'pandas.core.frame.DataFrame'>\n",
            "Int64Index: 835380 entries, 0 to 835379\n",
            "Data columns (total 14 columns):\n",
            " #   Column               Non-Null Count   Dtype         \n",
            "---  ------               --------------   -----         \n",
            " 0   Unnamed: 0           835380 non-null  int64         \n",
            " 1   date                 835380 non-null  object        \n",
            " 2   app                  835380 non-null  object        \n",
            " 3   version              835380 non-null  float64       \n",
            " 4   network              835380 non-null  object        \n",
            " 5   event_type           835380 non-null  object        \n",
            " 6   installs             835380 non-null  int64         \n",
            " 7   days_after_installs  835380 non-null  int64         \n",
            " 8   country              835380 non-null  object        \n",
            " 9   events_amount        835380 non-null  float64       \n",
            " 10  day                  835380 non-null  datetime64[ns]\n",
            " 11  start_day            835380 non-null  object        \n",
            " 12  actual_date          835380 non-null  object        \n",
            " 13  ecpm_value           835380 non-null  float64       \n",
            "dtypes: datetime64[ns](1), float64(3), int64(3), object(7)\n",
            "memory usage: 95.6+ MB\n"
          ]
        }
      ]
    },
    {
      "cell_type": "code",
      "metadata": {
        "id": "RFqbzIEBn78Y"
      },
      "source": [
        "# расчитываем показатель ARPU\n",
        "data_m['ARPU']= ( data_m.ecpm_value * data_m.events_amount / 1000 ) / data_m.installs"
      ],
      "execution_count": null,
      "outputs": []
    },
    {
      "cell_type": "code",
      "metadata": {
        "colab": {
          "base_uri": "https://localhost:8080/",
          "height": 420
        },
        "id": "9W_W9nUMQpV0",
        "outputId": "d9e036df-1392-42ee-cd33-c930ba853b4c"
      },
      "source": [
        "# проверяем правильность выполнения\n",
        "data_m"
      ],
      "execution_count": null,
      "outputs": [
        {
          "output_type": "execute_result",
          "data": {
            "text/html": [
              "<div>\n",
              "<style scoped>\n",
              "    .dataframe tbody tr th:only-of-type {\n",
              "        vertical-align: middle;\n",
              "    }\n",
              "\n",
              "    .dataframe tbody tr th {\n",
              "        vertical-align: top;\n",
              "    }\n",
              "\n",
              "    .dataframe thead th {\n",
              "        text-align: right;\n",
              "    }\n",
              "</style>\n",
              "<table border=\"1\" class=\"dataframe\">\n",
              "  <thead>\n",
              "    <tr style=\"text-align: right;\">\n",
              "      <th></th>\n",
              "      <th>Unnamed: 0</th>\n",
              "      <th>date</th>\n",
              "      <th>app</th>\n",
              "      <th>version</th>\n",
              "      <th>network</th>\n",
              "      <th>event_type</th>\n",
              "      <th>installs</th>\n",
              "      <th>days_after_installs</th>\n",
              "      <th>country</th>\n",
              "      <th>events_amount</th>\n",
              "      <th>day</th>\n",
              "      <th>start_day</th>\n",
              "      <th>actual_date</th>\n",
              "      <th>ecpm_value</th>\n",
              "      <th>ARPU</th>\n",
              "    </tr>\n",
              "  </thead>\n",
              "  <tbody>\n",
              "    <tr>\n",
              "      <th>0</th>\n",
              "      <td>0</td>\n",
              "      <td>2021-06-30 14:25:35.063117</td>\n",
              "      <td>awesome app A</td>\n",
              "      <td>1.0</td>\n",
              "      <td>AdNetwork P</td>\n",
              "      <td>interstitial</td>\n",
              "      <td>95897</td>\n",
              "      <td>0</td>\n",
              "      <td>US</td>\n",
              "      <td>757128.0</td>\n",
              "      <td>2021-06-30 14:25:35.063117</td>\n",
              "      <td>2021-06-30</td>\n",
              "      <td>2021-06-30</td>\n",
              "      <td>11.344681</td>\n",
              "      <td>0.089569</td>\n",
              "    </tr>\n",
              "    <tr>\n",
              "      <th>1</th>\n",
              "      <td>1</td>\n",
              "      <td>2021-06-29 14:25:35.063117</td>\n",
              "      <td>awesome app A</td>\n",
              "      <td>1.0</td>\n",
              "      <td>AdNetwork P</td>\n",
              "      <td>interstitial</td>\n",
              "      <td>95792</td>\n",
              "      <td>1</td>\n",
              "      <td>US</td>\n",
              "      <td>635731.0</td>\n",
              "      <td>2021-06-30 14:25:35.063117</td>\n",
              "      <td>2021-06-29</td>\n",
              "      <td>2021-06-30</td>\n",
              "      <td>11.344681</td>\n",
              "      <td>0.075290</td>\n",
              "    </tr>\n",
              "    <tr>\n",
              "      <th>2</th>\n",
              "      <td>2</td>\n",
              "      <td>2021-06-28 14:25:35.063117</td>\n",
              "      <td>awesome app A</td>\n",
              "      <td>1.0</td>\n",
              "      <td>AdNetwork P</td>\n",
              "      <td>interstitial</td>\n",
              "      <td>95542</td>\n",
              "      <td>2</td>\n",
              "      <td>US</td>\n",
              "      <td>624999.0</td>\n",
              "      <td>2021-06-30 14:25:35.063117</td>\n",
              "      <td>2021-06-28</td>\n",
              "      <td>2021-06-30</td>\n",
              "      <td>11.344681</td>\n",
              "      <td>0.074213</td>\n",
              "    </tr>\n",
              "    <tr>\n",
              "      <th>3</th>\n",
              "      <td>3</td>\n",
              "      <td>2021-06-27 14:25:35.063117</td>\n",
              "      <td>awesome app A</td>\n",
              "      <td>1.0</td>\n",
              "      <td>AdNetwork P</td>\n",
              "      <td>interstitial</td>\n",
              "      <td>95896</td>\n",
              "      <td>3</td>\n",
              "      <td>US</td>\n",
              "      <td>675012.0</td>\n",
              "      <td>2021-06-30 14:25:35.063117</td>\n",
              "      <td>2021-06-27</td>\n",
              "      <td>2021-06-30</td>\n",
              "      <td>11.344681</td>\n",
              "      <td>0.079855</td>\n",
              "    </tr>\n",
              "    <tr>\n",
              "      <th>4</th>\n",
              "      <td>4</td>\n",
              "      <td>2021-06-26 14:25:35.063117</td>\n",
              "      <td>awesome app A</td>\n",
              "      <td>1.0</td>\n",
              "      <td>AdNetwork P</td>\n",
              "      <td>interstitial</td>\n",
              "      <td>96081</td>\n",
              "      <td>4</td>\n",
              "      <td>US</td>\n",
              "      <td>466941.0</td>\n",
              "      <td>2021-06-30 14:25:35.063117</td>\n",
              "      <td>2021-06-26</td>\n",
              "      <td>2021-06-30</td>\n",
              "      <td>11.344681</td>\n",
              "      <td>0.055134</td>\n",
              "    </tr>\n",
              "    <tr>\n",
              "      <th>...</th>\n",
              "      <td>...</td>\n",
              "      <td>...</td>\n",
              "      <td>...</td>\n",
              "      <td>...</td>\n",
              "      <td>...</td>\n",
              "      <td>...</td>\n",
              "      <td>...</td>\n",
              "      <td>...</td>\n",
              "      <td>...</td>\n",
              "      <td>...</td>\n",
              "      <td>...</td>\n",
              "      <td>...</td>\n",
              "      <td>...</td>\n",
              "      <td>...</td>\n",
              "      <td>...</td>\n",
              "    </tr>\n",
              "    <tr>\n",
              "      <th>835375</th>\n",
              "      <td>0</td>\n",
              "      <td>2021-06-04 14:25:35.063117</td>\n",
              "      <td>brilliant app B</td>\n",
              "      <td>2.0</td>\n",
              "      <td>AdNetwork Q</td>\n",
              "      <td>interstitial</td>\n",
              "      <td>95799</td>\n",
              "      <td>0</td>\n",
              "      <td>ES</td>\n",
              "      <td>757579.0</td>\n",
              "      <td>2021-06-04 14:25:35.063117</td>\n",
              "      <td>2021-06-04</td>\n",
              "      <td>2021-06-04</td>\n",
              "      <td>9.162330</td>\n",
              "      <td>0.072456</td>\n",
              "    </tr>\n",
              "    <tr>\n",
              "      <th>835376</th>\n",
              "      <td>0</td>\n",
              "      <td>2021-06-04 14:25:35.063117</td>\n",
              "      <td>brilliant app B</td>\n",
              "      <td>2.0</td>\n",
              "      <td>AdNetwork S</td>\n",
              "      <td>interstitial</td>\n",
              "      <td>72177</td>\n",
              "      <td>0</td>\n",
              "      <td>ES</td>\n",
              "      <td>402619.0</td>\n",
              "      <td>2021-06-04 14:25:35.063117</td>\n",
              "      <td>2021-06-04</td>\n",
              "      <td>2021-06-04</td>\n",
              "      <td>9.162330</td>\n",
              "      <td>0.051109</td>\n",
              "    </tr>\n",
              "    <tr>\n",
              "      <th>835377</th>\n",
              "      <td>0</td>\n",
              "      <td>2021-06-04 14:25:35.063117</td>\n",
              "      <td>brilliant app B</td>\n",
              "      <td>2.0</td>\n",
              "      <td>AdNetwork P</td>\n",
              "      <td>banner</td>\n",
              "      <td>79904</td>\n",
              "      <td>0</td>\n",
              "      <td>ES</td>\n",
              "      <td>9730042.0</td>\n",
              "      <td>2021-06-04 14:25:35.063117</td>\n",
              "      <td>2021-06-04</td>\n",
              "      <td>2021-06-04</td>\n",
              "      <td>0.616927</td>\n",
              "      <td>0.075124</td>\n",
              "    </tr>\n",
              "    <tr>\n",
              "      <th>835378</th>\n",
              "      <td>0</td>\n",
              "      <td>2021-06-04 14:25:35.063117</td>\n",
              "      <td>brilliant app B</td>\n",
              "      <td>2.0</td>\n",
              "      <td>AdNetwork Q</td>\n",
              "      <td>banner</td>\n",
              "      <td>95799</td>\n",
              "      <td>0</td>\n",
              "      <td>ES</td>\n",
              "      <td>15161626.0</td>\n",
              "      <td>2021-06-04 14:25:35.063117</td>\n",
              "      <td>2021-06-04</td>\n",
              "      <td>2021-06-04</td>\n",
              "      <td>0.616927</td>\n",
              "      <td>0.097638</td>\n",
              "    </tr>\n",
              "    <tr>\n",
              "      <th>835379</th>\n",
              "      <td>0</td>\n",
              "      <td>2021-06-04 14:25:35.063117</td>\n",
              "      <td>brilliant app B</td>\n",
              "      <td>2.0</td>\n",
              "      <td>AdNetwork S</td>\n",
              "      <td>banner</td>\n",
              "      <td>72177</td>\n",
              "      <td>0</td>\n",
              "      <td>ES</td>\n",
              "      <td>9603086.0</td>\n",
              "      <td>2021-06-04 14:25:35.063117</td>\n",
              "      <td>2021-06-04</td>\n",
              "      <td>2021-06-04</td>\n",
              "      <td>0.616927</td>\n",
              "      <td>0.082082</td>\n",
              "    </tr>\n",
              "  </tbody>\n",
              "</table>\n",
              "<p>835380 rows × 15 columns</p>\n",
              "</div>"
            ],
            "text/plain": [
              "        Unnamed: 0                        date  ... ecpm_value      ARPU\n",
              "0                0  2021-06-30 14:25:35.063117  ...  11.344681  0.089569\n",
              "1                1  2021-06-29 14:25:35.063117  ...  11.344681  0.075290\n",
              "2                2  2021-06-28 14:25:35.063117  ...  11.344681  0.074213\n",
              "3                3  2021-06-27 14:25:35.063117  ...  11.344681  0.079855\n",
              "4                4  2021-06-26 14:25:35.063117  ...  11.344681  0.055134\n",
              "...            ...                         ...  ...        ...       ...\n",
              "835375           0  2021-06-04 14:25:35.063117  ...   9.162330  0.072456\n",
              "835376           0  2021-06-04 14:25:35.063117  ...   9.162330  0.051109\n",
              "835377           0  2021-06-04 14:25:35.063117  ...   0.616927  0.075124\n",
              "835378           0  2021-06-04 14:25:35.063117  ...   0.616927  0.097638\n",
              "835379           0  2021-06-04 14:25:35.063117  ...   0.616927  0.082082\n",
              "\n",
              "[835380 rows x 15 columns]"
            ]
          },
          "metadata": {},
          "execution_count": 59
        }
      ]
    },
    {
      "cell_type": "code",
      "metadata": {
        "id": "FOH21tKEn73b",
        "colab": {
          "base_uri": "https://localhost:8080/"
        },
        "outputId": "bba0f2f4-cc57-45f0-ec94-29a471779694"
      },
      "source": [
        "data_m['Unnamed: 0'].max()\n"
      ],
      "execution_count": null,
      "outputs": [
        {
          "output_type": "execute_result",
          "data": {
            "text/plain": [
              "89"
            ]
          },
          "metadata": {},
          "execution_count": 60
        }
      ]
    },
    {
      "cell_type": "code",
      "metadata": {
        "colab": {
          "base_uri": "https://localhost:8080/"
        },
        "id": "dHq-FQB7ipDl",
        "outputId": "4db5a67d-f6bd-4673-86db-04c13ac8694c"
      },
      "source": [
        "# бред\n",
        "x=1\n",
        "y=1\n",
        "while x<89:\n",
        "  x+=1\n",
        "  y+=x\n",
        "print(y)"
      ],
      "execution_count": null,
      "outputs": [
        {
          "output_type": "stream",
          "name": "stdout",
          "text": [
            "4005\n"
          ]
        }
      ]
    },
    {
      "cell_type": "markdown",
      "metadata": {
        "id": "DDmD1fZyinMt"
      },
      "source": [
        "Сделать ветвь для расчетов cumulative_ARPU.\n",
        "\n",
        "\n",
        "позволит строить ежедневные графики для каждой кагорты."
      ]
    },
    {
      "cell_type": "code",
      "metadata": {
        "id": "V4XVnxMvhq6H"
      },
      "source": [
        "# cоздаем магию=) \n",
        "# Вычисляем сумму ARPU идругих показателей, для каждой уникальной группы \"кагорты\".\n",
        "data_m_s = data_m.groupby(['app', 'version', 'network', 'event_type', 'country']).sum().reset_index()"
      ],
      "execution_count": null,
      "outputs": []
    },
    {
      "cell_type": "code",
      "metadata": {
        "colab": {
          "base_uri": "https://localhost:8080/",
          "height": 420
        },
        "id": "OiFYULN45DtY",
        "outputId": "5d7fdb7f-19cd-4b37-eb97-d78cf1fbbd7e"
      },
      "source": [
        "# проверяем правильность выполнения\n",
        "data_m_s"
      ],
      "execution_count": null,
      "outputs": [
        {
          "output_type": "execute_result",
          "data": {
            "text/html": [
              "<div>\n",
              "<style scoped>\n",
              "    .dataframe tbody tr th:only-of-type {\n",
              "        vertical-align: middle;\n",
              "    }\n",
              "\n",
              "    .dataframe tbody tr th {\n",
              "        vertical-align: top;\n",
              "    }\n",
              "\n",
              "    .dataframe thead th {\n",
              "        text-align: right;\n",
              "    }\n",
              "</style>\n",
              "<table border=\"1\" class=\"dataframe\">\n",
              "  <thead>\n",
              "    <tr style=\"text-align: right;\">\n",
              "      <th></th>\n",
              "      <th>app</th>\n",
              "      <th>version</th>\n",
              "      <th>network</th>\n",
              "      <th>event_type</th>\n",
              "      <th>country</th>\n",
              "      <th>start_day</th>\n",
              "      <th>Unnamed: 0</th>\n",
              "      <th>installs</th>\n",
              "      <th>days_after_installs</th>\n",
              "      <th>events_amount</th>\n",
              "      <th>ecpm_value</th>\n",
              "      <th>ARPU</th>\n",
              "    </tr>\n",
              "  </thead>\n",
              "  <tbody>\n",
              "    <tr>\n",
              "      <th>0</th>\n",
              "      <td>awesome app A</td>\n",
              "      <td>1.0</td>\n",
              "      <td>AdNetwork P</td>\n",
              "      <td>banner</td>\n",
              "      <td>AU</td>\n",
              "      <td>2021-06-04</td>\n",
              "      <td>4005</td>\n",
              "      <td>7459740</td>\n",
              "      <td>4005</td>\n",
              "      <td>228247335.0</td>\n",
              "      <td>55.962285</td>\n",
              "      <td>1.710515</td>\n",
              "    </tr>\n",
              "    <tr>\n",
              "      <th>1</th>\n",
              "      <td>awesome app A</td>\n",
              "      <td>1.0</td>\n",
              "      <td>AdNetwork P</td>\n",
              "      <td>banner</td>\n",
              "      <td>AU</td>\n",
              "      <td>2021-06-05</td>\n",
              "      <td>3916</td>\n",
              "      <td>7367064</td>\n",
              "      <td>3916</td>\n",
              "      <td>180125551.0</td>\n",
              "      <td>55.340090</td>\n",
              "      <td>1.352730</td>\n",
              "    </tr>\n",
              "    <tr>\n",
              "      <th>2</th>\n",
              "      <td>awesome app A</td>\n",
              "      <td>1.0</td>\n",
              "      <td>AdNetwork P</td>\n",
              "      <td>banner</td>\n",
              "      <td>AU</td>\n",
              "      <td>2021-06-06</td>\n",
              "      <td>3828</td>\n",
              "      <td>7270912</td>\n",
              "      <td>3828</td>\n",
              "      <td>232954543.0</td>\n",
              "      <td>54.737277</td>\n",
              "      <td>1.754821</td>\n",
              "    </tr>\n",
              "    <tr>\n",
              "      <th>3</th>\n",
              "      <td>awesome app A</td>\n",
              "      <td>1.0</td>\n",
              "      <td>AdNetwork P</td>\n",
              "      <td>banner</td>\n",
              "      <td>AU</td>\n",
              "      <td>2021-06-07</td>\n",
              "      <td>3741</td>\n",
              "      <td>7245708</td>\n",
              "      <td>3741</td>\n",
              "      <td>259669579.0</td>\n",
              "      <td>54.101750</td>\n",
              "      <td>1.935939</td>\n",
              "    </tr>\n",
              "    <tr>\n",
              "      <th>4</th>\n",
              "      <td>awesome app A</td>\n",
              "      <td>1.0</td>\n",
              "      <td>AdNetwork P</td>\n",
              "      <td>banner</td>\n",
              "      <td>AU</td>\n",
              "      <td>2021-06-08</td>\n",
              "      <td>3655</td>\n",
              "      <td>7161736</td>\n",
              "      <td>3655</td>\n",
              "      <td>207683196.0</td>\n",
              "      <td>53.494440</td>\n",
              "      <td>1.552936</td>\n",
              "    </tr>\n",
              "    <tr>\n",
              "      <th>...</th>\n",
              "      <td>...</td>\n",
              "      <td>...</td>\n",
              "      <td>...</td>\n",
              "      <td>...</td>\n",
              "      <td>...</td>\n",
              "      <td>...</td>\n",
              "      <td>...</td>\n",
              "      <td>...</td>\n",
              "      <td>...</td>\n",
              "      <td>...</td>\n",
              "      <td>...</td>\n",
              "      <td>...</td>\n",
              "    </tr>\n",
              "    <tr>\n",
              "      <th>18355</th>\n",
              "      <td>brilliant app B</td>\n",
              "      <td>2.2</td>\n",
              "      <td>AdNetwork S</td>\n",
              "      <td>interstitial</td>\n",
              "      <td>VN</td>\n",
              "      <td>2021-08-28</td>\n",
              "      <td>10</td>\n",
              "      <td>437780</td>\n",
              "      <td>10</td>\n",
              "      <td>2763598.0</td>\n",
              "      <td>48.510467</td>\n",
              "      <td>0.305443</td>\n",
              "    </tr>\n",
              "    <tr>\n",
              "      <th>18356</th>\n",
              "      <td>brilliant app B</td>\n",
              "      <td>2.2</td>\n",
              "      <td>AdNetwork S</td>\n",
              "      <td>interstitial</td>\n",
              "      <td>VN</td>\n",
              "      <td>2021-08-29</td>\n",
              "      <td>6</td>\n",
              "      <td>351224</td>\n",
              "      <td>6</td>\n",
              "      <td>2020527.0</td>\n",
              "      <td>39.132114</td>\n",
              "      <td>0.224642</td>\n",
              "    </tr>\n",
              "    <tr>\n",
              "      <th>18357</th>\n",
              "      <td>brilliant app B</td>\n",
              "      <td>2.2</td>\n",
              "      <td>AdNetwork S</td>\n",
              "      <td>interstitial</td>\n",
              "      <td>VN</td>\n",
              "      <td>2021-08-30</td>\n",
              "      <td>3</td>\n",
              "      <td>264198</td>\n",
              "      <td>3</td>\n",
              "      <td>2302102.0</td>\n",
              "      <td>29.629671</td>\n",
              "      <td>0.257981</td>\n",
              "    </tr>\n",
              "    <tr>\n",
              "      <th>18358</th>\n",
              "      <td>brilliant app B</td>\n",
              "      <td>2.2</td>\n",
              "      <td>AdNetwork S</td>\n",
              "      <td>interstitial</td>\n",
              "      <td>VN</td>\n",
              "      <td>2021-08-31</td>\n",
              "      <td>1</td>\n",
              "      <td>176514</td>\n",
              "      <td>1</td>\n",
              "      <td>984365.0</td>\n",
              "      <td>19.963219</td>\n",
              "      <td>0.111376</td>\n",
              "    </tr>\n",
              "    <tr>\n",
              "      <th>18359</th>\n",
              "      <td>brilliant app B</td>\n",
              "      <td>2.2</td>\n",
              "      <td>AdNetwork S</td>\n",
              "      <td>interstitial</td>\n",
              "      <td>VN</td>\n",
              "      <td>2021-09-01</td>\n",
              "      <td>0</td>\n",
              "      <td>87919</td>\n",
              "      <td>0</td>\n",
              "      <td>687321.0</td>\n",
              "      <td>10.114753</td>\n",
              "      <td>0.079074</td>\n",
              "    </tr>\n",
              "  </tbody>\n",
              "</table>\n",
              "<p>18360 rows × 12 columns</p>\n",
              "</div>"
            ],
            "text/plain": [
              "                   app  version  ... ecpm_value      ARPU\n",
              "0        awesome app A      1.0  ...  55.962285  1.710515\n",
              "1        awesome app A      1.0  ...  55.340090  1.352730\n",
              "2        awesome app A      1.0  ...  54.737277  1.754821\n",
              "3        awesome app A      1.0  ...  54.101750  1.935939\n",
              "4        awesome app A      1.0  ...  53.494440  1.552936\n",
              "...                ...      ...  ...        ...       ...\n",
              "18355  brilliant app B      2.2  ...  48.510467  0.305443\n",
              "18356  brilliant app B      2.2  ...  39.132114  0.224642\n",
              "18357  brilliant app B      2.2  ...  29.629671  0.257981\n",
              "18358  brilliant app B      2.2  ...  19.963219  0.111376\n",
              "18359  brilliant app B      2.2  ...  10.114753  0.079074\n",
              "\n",
              "[18360 rows x 12 columns]"
            ]
          },
          "metadata": {},
          "execution_count": 88
        }
      ]
    },
    {
      "cell_type": "code",
      "metadata": {
        "id": "_eAZ_lHFn70B"
      },
      "source": [
        "data_m_s.drop(columns=['Unnamed: 0',\t'days_after_installs',\t'events_amount',\t'ecpm_value'], inplace=True)"
      ],
      "execution_count": null,
      "outputs": []
    },
    {
      "cell_type": "code",
      "metadata": {
        "id": "4rl_xLaYmTEB",
        "colab": {
          "base_uri": "https://localhost:8080/",
          "height": 420
        },
        "outputId": "b534af30-ea20-44cd-faa7-babc35519162"
      },
      "source": [
        "# проверяем правильность выполнения\n",
        "data_m_s"
      ],
      "execution_count": null,
      "outputs": [
        {
          "output_type": "execute_result",
          "data": {
            "text/html": [
              "<div>\n",
              "<style scoped>\n",
              "    .dataframe tbody tr th:only-of-type {\n",
              "        vertical-align: middle;\n",
              "    }\n",
              "\n",
              "    .dataframe tbody tr th {\n",
              "        vertical-align: top;\n",
              "    }\n",
              "\n",
              "    .dataframe thead th {\n",
              "        text-align: right;\n",
              "    }\n",
              "</style>\n",
              "<table border=\"1\" class=\"dataframe\">\n",
              "  <thead>\n",
              "    <tr style=\"text-align: right;\">\n",
              "      <th></th>\n",
              "      <th>app</th>\n",
              "      <th>version</th>\n",
              "      <th>network</th>\n",
              "      <th>event_type</th>\n",
              "      <th>country</th>\n",
              "      <th>start_day</th>\n",
              "      <th>installs</th>\n",
              "      <th>events_amount</th>\n",
              "      <th>ecpm_value</th>\n",
              "      <th>ARPU</th>\n",
              "    </tr>\n",
              "  </thead>\n",
              "  <tbody>\n",
              "    <tr>\n",
              "      <th>0</th>\n",
              "      <td>awesome app A</td>\n",
              "      <td>1.0</td>\n",
              "      <td>AdNetwork P</td>\n",
              "      <td>banner</td>\n",
              "      <td>AU</td>\n",
              "      <td>2021-06-04</td>\n",
              "      <td>82886</td>\n",
              "      <td>228247335.0</td>\n",
              "      <td>55.962285</td>\n",
              "      <td>1.710515</td>\n",
              "    </tr>\n",
              "    <tr>\n",
              "      <th>1</th>\n",
              "      <td>awesome app A</td>\n",
              "      <td>1.0</td>\n",
              "      <td>AdNetwork P</td>\n",
              "      <td>banner</td>\n",
              "      <td>AU</td>\n",
              "      <td>2021-06-05</td>\n",
              "      <td>82776</td>\n",
              "      <td>180125551.0</td>\n",
              "      <td>55.340090</td>\n",
              "      <td>1.352730</td>\n",
              "    </tr>\n",
              "    <tr>\n",
              "      <th>2</th>\n",
              "      <td>awesome app A</td>\n",
              "      <td>1.0</td>\n",
              "      <td>AdNetwork P</td>\n",
              "      <td>banner</td>\n",
              "      <td>AU</td>\n",
              "      <td>2021-06-06</td>\n",
              "      <td>82624</td>\n",
              "      <td>232954543.0</td>\n",
              "      <td>54.737277</td>\n",
              "      <td>1.754821</td>\n",
              "    </tr>\n",
              "    <tr>\n",
              "      <th>3</th>\n",
              "      <td>awesome app A</td>\n",
              "      <td>1.0</td>\n",
              "      <td>AdNetwork P</td>\n",
              "      <td>banner</td>\n",
              "      <td>AU</td>\n",
              "      <td>2021-06-07</td>\n",
              "      <td>83284</td>\n",
              "      <td>259669579.0</td>\n",
              "      <td>54.101750</td>\n",
              "      <td>1.935939</td>\n",
              "    </tr>\n",
              "    <tr>\n",
              "      <th>4</th>\n",
              "      <td>awesome app A</td>\n",
              "      <td>1.0</td>\n",
              "      <td>AdNetwork P</td>\n",
              "      <td>banner</td>\n",
              "      <td>AU</td>\n",
              "      <td>2021-06-08</td>\n",
              "      <td>83276</td>\n",
              "      <td>207683196.0</td>\n",
              "      <td>53.494440</td>\n",
              "      <td>1.552936</td>\n",
              "    </tr>\n",
              "    <tr>\n",
              "      <th>...</th>\n",
              "      <td>...</td>\n",
              "      <td>...</td>\n",
              "      <td>...</td>\n",
              "      <td>...</td>\n",
              "      <td>...</td>\n",
              "      <td>...</td>\n",
              "      <td>...</td>\n",
              "      <td>...</td>\n",
              "      <td>...</td>\n",
              "      <td>...</td>\n",
              "    </tr>\n",
              "    <tr>\n",
              "      <th>18355</th>\n",
              "      <td>brilliant app B</td>\n",
              "      <td>2.2</td>\n",
              "      <td>AdNetwork S</td>\n",
              "      <td>interstitial</td>\n",
              "      <td>VN</td>\n",
              "      <td>2021-08-28</td>\n",
              "      <td>87556</td>\n",
              "      <td>2763598.0</td>\n",
              "      <td>48.510467</td>\n",
              "      <td>0.305443</td>\n",
              "    </tr>\n",
              "    <tr>\n",
              "      <th>18356</th>\n",
              "      <td>brilliant app B</td>\n",
              "      <td>2.2</td>\n",
              "      <td>AdNetwork S</td>\n",
              "      <td>interstitial</td>\n",
              "      <td>VN</td>\n",
              "      <td>2021-08-29</td>\n",
              "      <td>87806</td>\n",
              "      <td>2020527.0</td>\n",
              "      <td>39.132114</td>\n",
              "      <td>0.224642</td>\n",
              "    </tr>\n",
              "    <tr>\n",
              "      <th>18357</th>\n",
              "      <td>brilliant app B</td>\n",
              "      <td>2.2</td>\n",
              "      <td>AdNetwork S</td>\n",
              "      <td>interstitial</td>\n",
              "      <td>VN</td>\n",
              "      <td>2021-08-30</td>\n",
              "      <td>88066</td>\n",
              "      <td>2302102.0</td>\n",
              "      <td>29.629671</td>\n",
              "      <td>0.257981</td>\n",
              "    </tr>\n",
              "    <tr>\n",
              "      <th>18358</th>\n",
              "      <td>brilliant app B</td>\n",
              "      <td>2.2</td>\n",
              "      <td>AdNetwork S</td>\n",
              "      <td>interstitial</td>\n",
              "      <td>VN</td>\n",
              "      <td>2021-08-31</td>\n",
              "      <td>88257</td>\n",
              "      <td>984365.0</td>\n",
              "      <td>19.963219</td>\n",
              "      <td>0.111376</td>\n",
              "    </tr>\n",
              "    <tr>\n",
              "      <th>18359</th>\n",
              "      <td>brilliant app B</td>\n",
              "      <td>2.2</td>\n",
              "      <td>AdNetwork S</td>\n",
              "      <td>interstitial</td>\n",
              "      <td>VN</td>\n",
              "      <td>2021-09-01</td>\n",
              "      <td>87919</td>\n",
              "      <td>687321.0</td>\n",
              "      <td>10.114753</td>\n",
              "      <td>0.079074</td>\n",
              "    </tr>\n",
              "  </tbody>\n",
              "</table>\n",
              "<p>18360 rows × 10 columns</p>\n",
              "</div>"
            ],
            "text/plain": [
              "                   app  version  ... ecpm_value      ARPU\n",
              "0        awesome app A      1.0  ...  55.962285  1.710515\n",
              "1        awesome app A      1.0  ...  55.340090  1.352730\n",
              "2        awesome app A      1.0  ...  54.737277  1.754821\n",
              "3        awesome app A      1.0  ...  54.101750  1.935939\n",
              "4        awesome app A      1.0  ...  53.494440  1.552936\n",
              "...                ...      ...  ...        ...       ...\n",
              "18355  brilliant app B      2.2  ...  48.510467  0.305443\n",
              "18356  brilliant app B      2.2  ...  39.132114  0.224642\n",
              "18357  brilliant app B      2.2  ...  29.629671  0.257981\n",
              "18358  brilliant app B      2.2  ...  19.963219  0.111376\n",
              "18359  brilliant app B      2.2  ...  10.114753  0.079074\n",
              "\n",
              "[18360 rows x 10 columns]"
            ]
          },
          "metadata": {},
          "execution_count": 65
        }
      ]
    },
    {
      "cell_type": "code",
      "metadata": {
        "colab": {
          "base_uri": "https://localhost:8080/"
        },
        "id": "Uol876SVR5Yr",
        "outputId": "0f1f7214-f9e7-4cf3-e8d4-8d62ce953d60"
      },
      "source": [
        "data_mfi[data_mfi.network=='AdNetwork P'].ARPU.sum()"
      ],
      "execution_count": null,
      "outputs": [
        {
          "output_type": "execute_result",
          "data": {
            "text/plain": [
              "6623.289882619077"
            ]
          },
          "metadata": {},
          "execution_count": 143
        }
      ]
    },
    {
      "cell_type": "code",
      "metadata": {
        "colab": {
          "base_uri": "https://localhost:8080/"
        },
        "id": "lsNOqX5TlULI",
        "outputId": "5c0ffad4-8196-488a-eef6-5f0ae7ed2e12"
      },
      "source": [
        "data_mfi[data_mfi.network=='AdNetwork Q'].ARPU.sum()"
      ],
      "execution_count": null,
      "outputs": [
        {
          "output_type": "execute_result",
          "data": {
            "text/plain": [
              "6619.463391728146"
            ]
          },
          "metadata": {},
          "execution_count": 145
        }
      ]
    },
    {
      "cell_type": "code",
      "metadata": {
        "colab": {
          "base_uri": "https://localhost:8080/"
        },
        "id": "q0XEDMDmlUHx",
        "outputId": "dfeb22a9-73bd-41f7-eb2e-e4794965f70f"
      },
      "source": [
        "data_mfi[data_mfi.network=='AdNetwork S'].ARPU.sum()"
      ],
      "execution_count": null,
      "outputs": [
        {
          "output_type": "execute_result",
          "data": {
            "text/plain": [
              "6630.215340627146"
            ]
          },
          "metadata": {},
          "execution_count": 144
        }
      ]
    },
    {
      "cell_type": "code",
      "metadata": {
        "colab": {
          "base_uri": "https://localhost:8080/"
        },
        "id": "_ykvU2aATPr6",
        "outputId": "95894699-e724-4e7f-8d22-7f6bb754acb0"
      },
      "source": [
        "data_mfi[data_mfi['app']=='brilliant app B'].ARPU.mean()"
      ],
      "execution_count": null,
      "outputs": [
        {
          "output_type": "execute_result",
          "data": {
            "text/plain": [
              "53.925200096824106"
            ]
          },
          "metadata": {},
          "execution_count": 117
        }
      ]
    },
    {
      "cell_type": "code",
      "metadata": {
        "colab": {
          "base_uri": "https://localhost:8080/"
        },
        "id": "GrbFGu6y0Lxd",
        "outputId": "339dfb9d-ff01-4667-9b18-4bbb1b06aa82"
      },
      "source": [
        "data_mfi[data_mfi['app']=='awesome app A'].ARPU.mean()"
      ],
      "execution_count": null,
      "outputs": [
        {
          "output_type": "execute_result",
          "data": {
            "text/plain": [
              "28.99420848111845"
            ]
          },
          "metadata": {},
          "execution_count": 161
        }
      ]
    },
    {
      "cell_type": "code",
      "metadata": {
        "colab": {
          "base_uri": "https://localhost:8080/"
        },
        "id": "kvdSoqTuzlv8",
        "outputId": "e2b704ff-6931-4466-823a-e572732cebe5"
      },
      "source": [
        "data_mfi[data_mfi['app']=='brilliant app B'].ARPU.sum()"
      ],
      "execution_count": null,
      "outputs": [
        {
          "output_type": "execute_result",
          "data": {
            "text/plain": [
              "11000.740819752118"
            ]
          },
          "metadata": {},
          "execution_count": 160
        }
      ]
    },
    {
      "cell_type": "code",
      "metadata": {
        "colab": {
          "base_uri": "https://localhost:8080/"
        },
        "id": "0uCnXv5Dxptd",
        "outputId": "61164c11-023d-443b-b06e-d8f472349923"
      },
      "source": [
        "data_mfi[data_mfi['app']=='awesome app A'].ARPU.sum()"
      ],
      "execution_count": null,
      "outputs": [
        {
          "output_type": "execute_result",
          "data": {
            "text/plain": [
              "8872.227795222254"
            ]
          },
          "metadata": {},
          "execution_count": 159
        }
      ]
    },
    {
      "cell_type": "code",
      "metadata": {
        "colab": {
          "base_uri": "https://localhost:8080/",
          "height": 296
        },
        "id": "PMHbLMjHPKBD",
        "outputId": "640e63ca-9df7-44a0-af42-5cfc798eb0f8"
      },
      "source": [
        "sns.barplot(\n",
        "    x=\"country\", \n",
        "    y=\"ARPU\", \n",
        "    hue=\"app\", \n",
        "    ci=None,\n",
        "    data=data_mfi\n",
        ")"
      ],
      "execution_count": null,
      "outputs": [
        {
          "output_type": "execute_result",
          "data": {
            "text/plain": [
              "<matplotlib.axes._subplots.AxesSubplot at 0x7fec80558a10>"
            ]
          },
          "metadata": {},
          "execution_count": 165
        },
        {
          "output_type": "display_data",
          "data": {
            "image/png": "[encoded data removed]",
            "text/plain": [
              "<Figure size 432x288 with 1 Axes>"
            ]
          },
          "metadata": {
            "needs_background": "light"
          }
        }
      ]
    },
    {
      "cell_type": "code",
      "metadata": {
        "colab": {
          "base_uri": "https://localhost:8080/",
          "height": 420
        },
        "id": "tOQvGViyFGFy",
        "outputId": "c64c5c0e-532b-4f26-c52e-a4383ad35733"
      },
      "source": [
        "data_mfi"
      ],
      "execution_count": null,
      "outputs": [
        {
          "output_type": "execute_result",
          "data": {
            "text/html": [
              "<div>\n",
              "<style scoped>\n",
              "    .dataframe tbody tr th:only-of-type {\n",
              "        vertical-align: middle;\n",
              "    }\n",
              "\n",
              "    .dataframe tbody tr th {\n",
              "        vertical-align: top;\n",
              "    }\n",
              "\n",
              "    .dataframe thead th {\n",
              "        text-align: right;\n",
              "    }\n",
              "</style>\n",
              "<table border=\"1\" class=\"dataframe\">\n",
              "  <thead>\n",
              "    <tr style=\"text-align: right;\">\n",
              "      <th></th>\n",
              "      <th>app</th>\n",
              "      <th>version</th>\n",
              "      <th>network</th>\n",
              "      <th>event_type</th>\n",
              "      <th>country</th>\n",
              "      <th>installs</th>\n",
              "      <th>ARPU</th>\n",
              "    </tr>\n",
              "  </thead>\n",
              "  <tbody>\n",
              "    <tr>\n",
              "      <th>0</th>\n",
              "      <td>awesome app A</td>\n",
              "      <td>1.0</td>\n",
              "      <td>AdNetwork P</td>\n",
              "      <td>banner</td>\n",
              "      <td>AU</td>\n",
              "      <td>172321522</td>\n",
              "      <td>42.386495</td>\n",
              "    </tr>\n",
              "    <tr>\n",
              "      <th>1</th>\n",
              "      <td>awesome app A</td>\n",
              "      <td>1.0</td>\n",
              "      <td>AdNetwork P</td>\n",
              "      <td>banner</td>\n",
              "      <td>BR</td>\n",
              "      <td>168124657</td>\n",
              "      <td>48.719011</td>\n",
              "    </tr>\n",
              "    <tr>\n",
              "      <th>2</th>\n",
              "      <td>awesome app A</td>\n",
              "      <td>1.0</td>\n",
              "      <td>AdNetwork P</td>\n",
              "      <td>banner</td>\n",
              "      <td>CA</td>\n",
              "      <td>175106161</td>\n",
              "      <td>53.773344</td>\n",
              "    </tr>\n",
              "    <tr>\n",
              "      <th>3</th>\n",
              "      <td>awesome app A</td>\n",
              "      <td>1.0</td>\n",
              "      <td>AdNetwork P</td>\n",
              "      <td>banner</td>\n",
              "      <td>DE</td>\n",
              "      <td>172472942</td>\n",
              "      <td>49.260983</td>\n",
              "    </tr>\n",
              "    <tr>\n",
              "      <th>4</th>\n",
              "      <td>awesome app A</td>\n",
              "      <td>1.0</td>\n",
              "      <td>AdNetwork P</td>\n",
              "      <td>banner</td>\n",
              "      <td>ES</td>\n",
              "      <td>166412655</td>\n",
              "      <td>44.016556</td>\n",
              "    </tr>\n",
              "    <tr>\n",
              "      <th>...</th>\n",
              "      <td>...</td>\n",
              "      <td>...</td>\n",
              "      <td>...</td>\n",
              "      <td>...</td>\n",
              "      <td>...</td>\n",
              "      <td>...</td>\n",
              "      <td>...</td>\n",
              "    </tr>\n",
              "    <tr>\n",
              "      <th>505</th>\n",
              "      <td>brilliant app B</td>\n",
              "      <td>2.2</td>\n",
              "      <td>AdNetwork S</td>\n",
              "      <td>interstitial</td>\n",
              "      <td>MX</td>\n",
              "      <td>91061862</td>\n",
              "      <td>28.534970</td>\n",
              "    </tr>\n",
              "    <tr>\n",
              "      <th>506</th>\n",
              "      <td>brilliant app B</td>\n",
              "      <td>2.2</td>\n",
              "      <td>AdNetwork S</td>\n",
              "      <td>interstitial</td>\n",
              "      <td>RU</td>\n",
              "      <td>82822910</td>\n",
              "      <td>36.229642</td>\n",
              "    </tr>\n",
              "    <tr>\n",
              "      <th>507</th>\n",
              "      <td>brilliant app B</td>\n",
              "      <td>2.2</td>\n",
              "      <td>AdNetwork S</td>\n",
              "      <td>interstitial</td>\n",
              "      <td>TR</td>\n",
              "      <td>92476310</td>\n",
              "      <td>26.901084</td>\n",
              "    </tr>\n",
              "    <tr>\n",
              "      <th>508</th>\n",
              "      <td>brilliant app B</td>\n",
              "      <td>2.2</td>\n",
              "      <td>AdNetwork S</td>\n",
              "      <td>interstitial</td>\n",
              "      <td>US</td>\n",
              "      <td>85449786</td>\n",
              "      <td>38.130598</td>\n",
              "    </tr>\n",
              "    <tr>\n",
              "      <th>509</th>\n",
              "      <td>brilliant app B</td>\n",
              "      <td>2.2</td>\n",
              "      <td>AdNetwork S</td>\n",
              "      <td>interstitial</td>\n",
              "      <td>VN</td>\n",
              "      <td>87009698</td>\n",
              "      <td>31.885833</td>\n",
              "    </tr>\n",
              "  </tbody>\n",
              "</table>\n",
              "<p>510 rows × 7 columns</p>\n",
              "</div>"
            ],
            "text/plain": [
              "                 app  version      network  ... country   installs       ARPU\n",
              "0      awesome app A      1.0  AdNetwork P  ...      AU  172321522  42.386495\n",
              "1      awesome app A      1.0  AdNetwork P  ...      BR  168124657  48.719011\n",
              "2      awesome app A      1.0  AdNetwork P  ...      CA  175106161  53.773344\n",
              "3      awesome app A      1.0  AdNetwork P  ...      DE  172472942  49.260983\n",
              "4      awesome app A      1.0  AdNetwork P  ...      ES  166412655  44.016556\n",
              "..               ...      ...          ...  ...     ...        ...        ...\n",
              "505  brilliant app B      2.2  AdNetwork S  ...      MX   91061862  28.534970\n",
              "506  brilliant app B      2.2  AdNetwork S  ...      RU   82822910  36.229642\n",
              "507  brilliant app B      2.2  AdNetwork S  ...      TR   92476310  26.901084\n",
              "508  brilliant app B      2.2  AdNetwork S  ...      US   85449786  38.130598\n",
              "509  brilliant app B      2.2  AdNetwork S  ...      VN   87009698  31.885833\n",
              "\n",
              "[510 rows x 7 columns]"
            ]
          },
          "metadata": {},
          "execution_count": 213
        }
      ]
    },
    {
      "cell_type": "code",
      "metadata": {
        "colab": {
          "base_uri": "https://localhost:8080/",
          "height": 899
        },
        "id": "IQQTrg4e10t6",
        "outputId": "39d959f0-6460-4f90-aef4-b37a37a6437d"
      },
      "source": [
        "pd.pivot_table(data_mfi,\n",
        "              index = 'app',\n",
        "              columns = ['event_type'],\n",
        "              values = ['ARPU'],\n",
        "              aggfunc = { 'ARPU'     :np.sum}\n",
        "               ).plot(kind='bar',\n",
        "                      figsize=(12,7), \n",
        "                      grid=True, \n",
        "                      sort_columns=False,\n",
        "                      rot=1\n",
        "                      )\n",
        "pd.pivot_table(data_mfi,\n",
        "              index = 'app',\n",
        "              columns = ['event_type'],\n",
        "              values = ['installs'],\n",
        "              aggfunc = { 'installs'     :np.sum}\n",
        "               ).plot(kind='bar',\n",
        "                      figsize=(12,7), \n",
        "                      grid=True, \n",
        "                      sort_columns=False,\n",
        "                      rot=1\n",
        "                      )"
      ],
      "execution_count": null,
      "outputs": [
        {
          "output_type": "execute_result",
          "data": {
            "text/plain": [
              "<matplotlib.axes._subplots.AxesSubplot at 0x7fec7e74b650>"
            ]
          },
          "metadata": {},
          "execution_count": 220
        },
        {
          "output_type": "display_data",
          "data": {
            "image/png": "[encoded data removed]",
            "text/plain": [
              "<Figure size 864x504 with 1 Axes>"
            ]
          },
          "metadata": {
            "needs_background": "light"
          }
        },
        {
          "output_type": "display_data",
          "data": {
            "image/png": "[encoded data removed]",
            "text/plain": [
              "<Figure size 864x504 with 1 Axes>"
            ]
          },
          "metadata": {
            "needs_background": "light"
          }
        }
      ]
    },
    {
      "cell_type": "code",
      "metadata": {
        "colab": {
          "base_uri": "https://localhost:8080/",
          "height": 899
        },
        "id": "qId2iG2U3WIZ",
        "outputId": "c1afb781-5c09-4a86-97f5-f001fc13eeec"
      },
      "source": [
        "pd.pivot_table(data_mfi,\n",
        "              index = 'app',\n",
        "              columns = ['version'],\n",
        "              values = ['ARPU'],\n",
        "              aggfunc = {'ARPU':np.sum}\n",
        ").plot(kind='bar',\n",
        "       figsize=(12,7), \n",
        "       grid=True, \n",
        "       sort_columns=False,\n",
        "       rot=1\n",
        "       )\n",
        "pd.pivot_table(data_mfi,\n",
        "              index = 'app',\n",
        "              columns = ['version'],\n",
        "              values = ['installs'],\n",
        "              aggfunc = {'installs':np.sum}\n",
        ").plot(kind='bar',\n",
        "       figsize=(12,7), \n",
        "       grid=True, \n",
        "       sort_columns=False,\n",
        "       rot=1\n",
        "       )"
      ],
      "execution_count": null,
      "outputs": [
        {
          "output_type": "execute_result",
          "data": {
            "text/plain": [
              "<matplotlib.axes._subplots.AxesSubplot at 0x7fec7e651290>"
            ]
          },
          "metadata": {},
          "execution_count": 221
        },
        {
          "output_type": "display_data",
          "data": {
            "image/png": "[encoded data removed]",
            "text/plain": [
              "<Figure size 864x504 with 1 Axes>"
            ]
          },
          "metadata": {
            "needs_background": "light"
          }
        },
        {
          "output_type": "display_data",
          "data": {
            "image/png": "[encoded data removed]",
            "text/plain": [
              "<Figure size 864x504 with 1 Axes>"
            ]
          },
          "metadata": {
            "needs_background": "light"
          }
        }
      ]
    },
    {
      "cell_type": "code",
      "metadata": {
        "colab": {
          "base_uri": "https://localhost:8080/",
          "height": 1000
        },
        "id": "1bujVNZU3dT_",
        "outputId": "bc946f43-d6d6-4625-d03b-c7f7365faf15"
      },
      "source": [
        "pd.pivot_table(data_mfi,\n",
        "              index = 'country',\n",
        "              columns = ['app'],\n",
        "              values = ['ARPU'],\n",
        "              aggfunc = {'ARPU':np.sum}\n",
        ").plot(kind='bar',\n",
        "       figsize=(12,7), \n",
        "       grid=True, \n",
        "       sort_columns=False,\n",
        "       rot=1  )\n",
        "\n",
        "pd.pivot_table(data_mfi,\n",
        "              index = 'country',\n",
        "              columns = ['version'],\n",
        "              values = ['ARPU'],\n",
        "              aggfunc = {'ARPU':np.sum}\n",
        ").plot(kind='bar',\n",
        "       figsize=(12,7), \n",
        "       grid=True, \n",
        "       sort_columns=False,\n",
        "       rot=1 )\n",
        "\n",
        "pd.pivot_table(data_mfi,\n",
        "              index = 'country',\n",
        "              columns = ['event_type'],\n",
        "              values = ['ARPU'],\n",
        "              aggfunc = {'ARPU':np.sum}\n",
        ").plot(kind='bar',\n",
        "       figsize=(12,7), \n",
        "       grid=True, \n",
        "       sort_columns=False,\n",
        "       rot=1)\n",
        "\n",
        "pd.pivot_table(data_mfi,\n",
        "              index = 'country',\n",
        "              columns = ['app'],\n",
        "              values = ['installs'],\n",
        "              aggfunc = {'installs':np.sum}\n",
        ").plot(kind='bar',\n",
        "       figsize=(12,7), \n",
        "       grid=True, \n",
        "       sort_columns=False,\n",
        "       rot=1   )"
      ],
      "execution_count": null,
      "outputs": [
        {
          "output_type": "execute_result",
          "data": {
            "text/plain": [
              "<matplotlib.axes._subplots.AxesSubplot at 0x7fec7dd24210>"
            ]
          },
          "metadata": {},
          "execution_count": 231
        },
        {
          "output_type": "display_data",
          "data": {
            "image/png": "[encoded data removed]",
            "text/plain": [
              "<Figure size 864x504 with 1 Axes>"
            ]
          },
          "metadata": {
            "needs_background": "light"
          }
        },
        {
          "output_type": "display_data",
          "data": {
            "image/png": "[encoded data removed]",
            "text/plain": [
              "<Figure size 864x504 with 1 Axes>"
            ]
          },
          "metadata": {
            "needs_background": "light"
          }
        },
        {
          "output_type": "display_data",
          "data": {
            "image/png": "[encoded data removed]",
            "text/plain": [
              "<Figure size 864x504 with 1 Axes>"
            ]
          },
          "metadata": {
            "needs_background": "light"
          }
        },
        {
          "output_type": "display_data",
          "data": {
            "image/png": "[encoded data removed]",
            "text/plain": [
              "<Figure size 864x504 with 1 Axes>"
            ]
          },
          "metadata": {
            "needs_background": "light"
          }
        }
      ]
    },
    {
      "cell_type": "code",
      "metadata": {
        "colab": {
          "base_uri": "https://localhost:8080/"
        },
        "id": "LP84u6CtG3mp",
        "outputId": "6e137f97-ec9b-4cd5-cd5a-91904d01fa65"
      },
      "source": [
        "data_mfi[data_mfi.country=='JP'].ARPU.sum()"
      ],
      "execution_count": null,
      "outputs": [
        {
          "output_type": "execute_result",
          "data": {
            "text/plain": [
              "1295.5855441124309"
            ]
          },
          "metadata": {},
          "execution_count": 223
        }
      ]
    },
    {
      "cell_type": "code",
      "metadata": {
        "colab": {
          "base_uri": "https://localhost:8080/"
        },
        "id": "vJJFucj5Ar31",
        "outputId": "2488c130-663b-411b-c063-7d56f72ec7f8"
      },
      "source": [
        "data_mfi[data_mfi.country=='US'].ARPU.sum()"
      ],
      "execution_count": null,
      "outputs": [
        {
          "output_type": "execute_result",
          "data": {
            "text/plain": [
              "1285.6583400138531"
            ]
          },
          "metadata": {},
          "execution_count": 224
        }
      ]
    },
    {
      "cell_type": "code",
      "metadata": {
        "colab": {
          "base_uri": "https://localhost:8080/"
        },
        "id": "Vwpie199ArzE",
        "outputId": "b2f09399-ca66-4a43-8ca0-ee0ba985f1dc"
      },
      "source": [
        "data_mfi[data_mfi.country=='GB'].ARPU.sum()"
      ],
      "execution_count": null,
      "outputs": [
        {
          "output_type": "execute_result",
          "data": {
            "text/plain": [
              "1302.5274655260935"
            ]
          },
          "metadata": {},
          "execution_count": 225
        }
      ]
    },
    {
      "cell_type": "code",
      "metadata": {
        "colab": {
          "base_uri": "https://localhost:8080/"
        },
        "id": "dzXvWSSiArtt",
        "outputId": "4bf18084-e029-4597-d1e6-87a20a156449"
      },
      "source": [
        "data_mfi[data_mfi.country=='AU'].ARPU.sum()"
      ],
      "execution_count": null,
      "outputs": [
        {
          "output_type": "execute_result",
          "data": {
            "text/plain": [
              "1021.0802764962096"
            ]
          },
          "metadata": {},
          "execution_count": 229
        }
      ]
    },
    {
      "cell_type": "code",
      "metadata": {
        "colab": {
          "base_uri": "https://localhost:8080/"
        },
        "id": "lmIii49PArqI",
        "outputId": "44d1ba50-0f83-4dbd-c882-e9119dac0be3"
      },
      "source": [
        "data_mfi[data_mfi.country=='ID'].ARPU.sum()"
      ],
      "execution_count": null,
      "outputs": [
        {
          "output_type": "execute_result",
          "data": {
            "text/plain": [
              "996.2457613928921"
            ]
          },
          "metadata": {},
          "execution_count": 228
        }
      ]
    },
    {
      "cell_type": "code",
      "metadata": {
        "colab": {
          "base_uri": "https://localhost:8080/"
        },
        "id": "3KoS_nS0HRF1",
        "outputId": "8296ff03-fe08-4425-c490-73b8774f8275"
      },
      "source": [
        "data_mfi[data_mfi.country=='MX'].ARPU.sum()"
      ],
      "execution_count": null,
      "outputs": [
        {
          "output_type": "execute_result",
          "data": {
            "text/plain": [
              "992.7998961344746"
            ]
          },
          "metadata": {},
          "execution_count": 227
        }
      ]
    },
    {
      "cell_type": "code",
      "metadata": {
        "colab": {
          "base_uri": "https://localhost:8080/"
        },
        "id": "g1JvKEsUHRCb",
        "outputId": "c5123437-7a86-404a-e2a1-af1502fe22e4"
      },
      "source": [
        "data_mfi[data_mfi.country=='TR'].ARPU.sum()"
      ],
      "execution_count": null,
      "outputs": [
        {
          "output_type": "execute_result",
          "data": {
            "text/plain": [
              "982.4119314861534"
            ]
          },
          "metadata": {},
          "execution_count": 226
        }
      ]
    },
    {
      "cell_type": "code",
      "metadata": {
        "id": "nW9UcaR-HQ_s"
      },
      "source": [
        ""
      ],
      "execution_count": null,
      "outputs": []
    },
    {
      "cell_type": "code",
      "metadata": {
        "id": "cAM7FF_OHQ6_"
      },
      "source": [
        ""
      ],
      "execution_count": null,
      "outputs": []
    },
    {
      "cell_type": "code",
      "metadata": {
        "colab": {
          "base_uri": "https://localhost:8080/",
          "height": 307
        },
        "id": "dfd-QfMMxJ2u",
        "outputId": "45d1c20f-bc7b-4a04-c9c0-921239400ae5"
      },
      "source": [
        "sns.barplot(\n",
        "    x=\"country\", \n",
        "    y=\"installs\", \n",
        "    hue=\"app\", \n",
        "    ci=None,\n",
        "    data=data_mfi\n",
        ")"
      ],
      "execution_count": null,
      "outputs": [
        {
          "output_type": "execute_result",
          "data": {
            "text/plain": [
              "<matplotlib.axes._subplots.AxesSubplot at 0x7fec804d4e10>"
            ]
          },
          "metadata": {},
          "execution_count": 154
        },
        {
          "output_type": "display_data",
          "data": {
            "image/png": "[encoded data removed]",
            "text/plain": [
              "<Figure size 432x288 with 1 Axes>"
            ]
          },
          "metadata": {
            "needs_background": "light"
          }
        }
      ]
    },
    {
      "cell_type": "code",
      "metadata": {
        "colab": {
          "base_uri": "https://localhost:8080/",
          "height": 297
        },
        "id": "VFAelwARx0oO",
        "outputId": "d8432abd-34a9-4061-f5fd-435052784759"
      },
      "source": [
        "\n",
        "sns.barplot(\n",
        "    x=\"event_type\", \n",
        "    y=\"ARPU\", \n",
        "    hue=\"app\", \n",
        "    ci=None,\n",
        "    data=data_mfi\n",
        ")"
      ],
      "execution_count": null,
      "outputs": [
        {
          "output_type": "execute_result",
          "data": {
            "text/plain": [
              "<matplotlib.axes._subplots.AxesSubplot at 0x7fec8034b150>"
            ]
          },
          "metadata": {},
          "execution_count": 156
        },
        {
          "output_type": "display_data",
          "data": {
            "image/png": "[encoded data removed]",
            "text/plain": [
              "<Figure size 432x288 with 1 Axes>"
            ]
          },
          "metadata": {
            "needs_background": "light"
          }
        }
      ]
    },
    {
      "cell_type": "code",
      "metadata": {
        "colab": {
          "base_uri": "https://localhost:8080/",
          "height": 296
        },
        "id": "XkxMa5mnRKzk",
        "outputId": "91cc4c67-da61-4b3b-bafe-7d916000a831"
      },
      "source": [
        "sns.barplot(\n",
        "    x=\"network\", \n",
        "    y=\"ARPU\", \n",
        "    hue=\"app\", \n",
        "    ci=None,\n",
        "    data=data_mfi\n",
        ")"
      ],
      "execution_count": null,
      "outputs": [
        {
          "output_type": "execute_result",
          "data": {
            "text/plain": [
              "<matplotlib.axes._subplots.AxesSubplot at 0x7fec80c82210>"
            ]
          },
          "metadata": {},
          "execution_count": 109
        },
        {
          "output_type": "display_data",
          "data": {
            "image/png": "[encoded data removed]",
            "text/plain": [
              "<Figure size 432x288 with 1 Axes>"
            ]
          },
          "metadata": {
            "needs_background": "light"
          }
        }
      ]
    },
    {
      "cell_type": "code",
      "metadata": {
        "colab": {
          "base_uri": "https://localhost:8080/",
          "height": 307
        },
        "id": "AU4NdxvzxYI-",
        "outputId": "a9923244-90d8-4b6f-fe80-4cdb533516c6"
      },
      "source": [
        "sns.barplot(\n",
        "    x=\"network\", \n",
        "    y=\"installs\", \n",
        "    hue=\"app\", \n",
        "    ci=None,\n",
        "    data=data_mfi\n",
        ")"
      ],
      "execution_count": null,
      "outputs": [
        {
          "output_type": "execute_result",
          "data": {
            "text/plain": [
              "<matplotlib.axes._subplots.AxesSubplot at 0x7fec803ccdd0>"
            ]
          },
          "metadata": {},
          "execution_count": 155
        },
        {
          "output_type": "display_data",
          "data": {
            "image/png": "[encoded data removed]",
            "text/plain": [
              "<Figure size 432x288 with 1 Axes>"
            ]
          },
          "metadata": {
            "needs_background": "light"
          }
        }
      ]
    },
    {
      "cell_type": "code",
      "metadata": {
        "colab": {
          "base_uri": "https://localhost:8080/",
          "height": 296
        },
        "id": "ORFgdYQ5RPxO",
        "outputId": "bfe737fe-9365-4d31-80ef-68b46b9925c8"
      },
      "source": [
        "sns.barplot(\n",
        "    x=\"version\", \n",
        "    y=\"ARPU\", \n",
        "    hue=\"app\", \n",
        "    ci=None,\n",
        "    data=data_mfi\n",
        ")"
      ],
      "execution_count": null,
      "outputs": [
        {
          "output_type": "execute_result",
          "data": {
            "text/plain": [
              "<matplotlib.axes._subplots.AxesSubplot at 0x7fec80687690>"
            ]
          },
          "metadata": {},
          "execution_count": 124
        },
        {
          "output_type": "display_data",
          "data": {
            "image/png": "[encoded data removed]",
            "text/plain": [
              "<Figure size 432x288 with 1 Axes>"
            ]
          },
          "metadata": {
            "needs_background": "light"
          }
        }
      ]
    },
    {
      "cell_type": "code",
      "metadata": {
        "id": "mfxR97ta-z-W",
        "colab": {
          "base_uri": "https://localhost:8080/",
          "height": 281
        },
        "outputId": "7a802e47-bfc3-4ccd-af16-0efd8090139b"
      },
      "source": [
        "plt.bar(\n",
        "    x=data_m_s.event_type, \n",
        "    height=data_m_s.ARPU.sum(),\n",
        "    width=1   \n",
        ")"
      ],
      "execution_count": null,
      "outputs": [
        {
          "output_type": "execute_result",
          "data": {
            "text/plain": [
              "<BarContainer object of 18360 artists>"
            ]
          },
          "metadata": {},
          "execution_count": 75
        },
        {
          "output_type": "display_data",
          "data": {
            "image/png": "[encoded data removed]",
            "text/plain": [
              "<Figure size 432x288 with 1 Axes>"
            ]
          },
          "metadata": {
            "needs_background": "light"
          }
        }
      ]
    },
    {
      "cell_type": "code",
      "metadata": {
        "colab": {
          "base_uri": "https://localhost:8080/",
          "height": 230
        },
        "id": "3P9rxgUBnMSi",
        "outputId": "9db0fc2e-6d53-44a6-efad-560f572bfc31"
      },
      "source": [
        "sns.barplot(\n",
        "    x=data_m_s.event_type, \n",
        "    y=data_m_s.ARPU.sum(), \n",
        "    hue=data_m_s.app, \n",
        "    ci=None\n",
        ")"
      ],
      "execution_count": 1,
      "outputs": [
        {
          "output_type": "error",
          "ename": "NameError",
          "evalue": "ignored",
          "traceback": [
            "\u001b[0;31m---------------------------------------------------------------------------\u001b[0m",
            "\u001b[0;31mNameError\u001b[0m                                 Traceback (most recent call last)",
            "\u001b[0;32m<ipython-input-1-b547d4b19495>\u001b[0m in \u001b[0;36m<module>\u001b[0;34m()\u001b[0m\n\u001b[0;32m----> 1\u001b[0;31m sns.barplot(\n\u001b[0m\u001b[1;32m      2\u001b[0m     \u001b[0mx\u001b[0m\u001b[0;34m=\u001b[0m\u001b[0mdata_m_s\u001b[0m\u001b[0;34m.\u001b[0m\u001b[0mevent_type\u001b[0m\u001b[0;34m,\u001b[0m\u001b[0;34m\u001b[0m\u001b[0;34m\u001b[0m\u001b[0m\n\u001b[1;32m      3\u001b[0m     \u001b[0my\u001b[0m\u001b[0;34m=\u001b[0m\u001b[0mdata_m_s\u001b[0m\u001b[0;34m.\u001b[0m\u001b[0mARPU\u001b[0m\u001b[0;34m.\u001b[0m\u001b[0msum\u001b[0m\u001b[0;34m(\u001b[0m\u001b[0;34m)\u001b[0m\u001b[0;34m,\u001b[0m\u001b[0;34m\u001b[0m\u001b[0;34m\u001b[0m\u001b[0m\n\u001b[1;32m      4\u001b[0m     \u001b[0mhue\u001b[0m\u001b[0;34m=\u001b[0m\u001b[0mdata_m_s\u001b[0m\u001b[0;34m.\u001b[0m\u001b[0mapp\u001b[0m\u001b[0;34m,\u001b[0m\u001b[0;34m\u001b[0m\u001b[0;34m\u001b[0m\u001b[0m\n\u001b[1;32m      5\u001b[0m     \u001b[0mci\u001b[0m\u001b[0;34m=\u001b[0m\u001b[0;32mNone\u001b[0m\u001b[0;34m\u001b[0m\u001b[0;34m\u001b[0m\u001b[0m\n",
            "\u001b[0;31mNameError\u001b[0m: name 'sns' is not defined"
          ]
        }
      ]
    },
    {
      "cell_type": "code",
      "metadata": {
        "colab": {
          "base_uri": "https://localhost:8080/"
        },
        "id": "gAFM3fHDMZvm",
        "outputId": "5026e90d-6f79-4b24-8c0f-30bde644b6b8"
      },
      "source": [
        "data_m_s.event_type"
      ],
      "execution_count": null,
      "outputs": [
        {
          "output_type": "execute_result",
          "data": {
            "text/plain": [
              "0              banner\n",
              "1              banner\n",
              "2              banner\n",
              "3              banner\n",
              "4              banner\n",
              "             ...     \n",
              "18355    interstitial\n",
              "18356    interstitial\n",
              "18357    interstitial\n",
              "18358    interstitial\n",
              "18359    interstitial\n",
              "Name: event_type, Length: 18360, dtype: object"
            ]
          },
          "metadata": {},
          "execution_count": 77
        }
      ]
    },
    {
      "cell_type": "code",
      "metadata": {
        "colab": {
          "base_uri": "https://localhost:8080/"
        },
        "id": "-UbUKYl0MUwy",
        "outputId": "8042eb4d-dc27-4e8f-9a49-a4658e861f9f"
      },
      "source": [
        "data_m_s.ARPU.sum()"
      ],
      "execution_count": null,
      "outputs": [
        {
          "output_type": "execute_result",
          "data": {
            "text/plain": [
              "19872.968614974372"
            ]
          },
          "metadata": {},
          "execution_count": 76
        }
      ]
    },
    {
      "cell_type": "code",
      "metadata": {
        "colab": {
          "base_uri": "https://localhost:8080/",
          "height": 295
        },
        "id": "ZjHvkJQ3nMMa",
        "outputId": "4b2139d6-8bd0-4332-dbf7-1c70437c5cfd"
      },
      "source": [
        "sns.barplot(\n",
        "    x=\"version\", \n",
        "    y=\"ARPU\", \n",
        "    hue=\"app\", \n",
        "    ci=None,\n",
        "    data=data_m_s\n",
        ")"
      ],
      "execution_count": null,
      "outputs": [
        {
          "output_type": "execute_result",
          "data": {
            "text/plain": [
              "<matplotlib.axes._subplots.AxesSubplot at 0x7fe9c6bcec50>"
            ]
          },
          "metadata": {},
          "execution_count": 107
        },
        {
          "output_type": "display_data",
          "data": {
            "image/png": "[encoded data removed]",
            "text/plain": [
              "<Figure size 432x288 with 1 Axes>"
            ]
          },
          "metadata": {
            "needs_background": "light"
          }
        }
      ]
    },
    {
      "cell_type": "code",
      "metadata": {
        "colab": {
          "base_uri": "https://localhost:8080/",
          "height": 351
        },
        "id": "893ARItenMKV",
        "outputId": "4bbb6419-103f-4654-ceba-b8c2a6062e86"
      },
      "source": [
        "plt.figure(figsize=(5,5))\n",
        "sns.barplot(\n",
        "    x=\"version\", \n",
        "    y=\"installs\", \n",
        "    hue=\"app\", \n",
        "    ci=None,\n",
        "    data=data_m_s\n",
        ")"
      ],
      "execution_count": null,
      "outputs": [
        {
          "output_type": "execute_result",
          "data": {
            "text/plain": [
              "<matplotlib.axes._subplots.AxesSubplot at 0x7fe9bc689910>"
            ]
          },
          "metadata": {},
          "execution_count": 113
        },
        {
          "output_type": "display_data",
          "data": {
            "image/png": "[encoded data removed]",
            "text/plain": [
              "<Figure size 360x360 with 1 Axes>"
            ]
          },
          "metadata": {
            "needs_background": "light"
          }
        }
      ]
    },
    {
      "cell_type": "code",
      "metadata": {
        "colab": {
          "base_uri": "https://localhost:8080/",
          "height": 351
        },
        "id": "F_JY8qdPnMHa",
        "outputId": "de83d296-e8f9-46e7-a19b-6fdd2d85cba4"
      },
      "source": [
        "plt.figure(figsize=(15,5))\n",
        "sns.barplot(\n",
        "    x=\"country\", \n",
        "    y=\"ARPU\", \n",
        "    hue=\"app\", \n",
        "    ci=None,\n",
        "    data=data_m_s\n",
        ")"
      ],
      "execution_count": null,
      "outputs": [
        {
          "output_type": "execute_result",
          "data": {
            "text/plain": [
              "<matplotlib.axes._subplots.AxesSubplot at 0x7fe9c687c2d0>"
            ]
          },
          "metadata": {},
          "execution_count": 119
        },
        {
          "output_type": "display_data",
          "data": {
            "image/png": "[encoded data removed]",
            "text/plain": [
              "<Figure size 1080x360 with 1 Axes>"
            ]
          },
          "metadata": {
            "needs_background": "light"
          }
        }
      ]
    },
    {
      "cell_type": "code",
      "metadata": {
        "id": "wtaUwPSPtE9e"
      },
      "source": [
        "sns.barplot(\n",
        "    x=\"app\", \n",
        "    y=\"ARPU\", \n",
        "    hue=\"app\", \n",
        "    ci=None,\n",
        "    data=data_m_s\n",
        ")"
      ],
      "execution_count": null,
      "outputs": []
    },
    {
      "cell_type": "code",
      "metadata": {
        "id": "CXRgXQX1tEz5"
      },
      "source": [
        ""
      ],
      "execution_count": null,
      "outputs": []
    },
    {
      "cell_type": "code",
      "metadata": {
        "id": "WYOOeh4BtEwH"
      },
      "source": [
        ""
      ],
      "execution_count": null,
      "outputs": []
    },
    {
      "cell_type": "markdown",
      "metadata": {
        "id": "IO6T1--OS2UQ"
      },
      "source": [
        "https://app2top.ru/marketing/pokazateli-e-ffektivnosti-igr-nakopitel-ny-j-arpu-102795.html\n",
        "\n",
        "https://habr.com/ru/post/416599/"
      ]
    },
    {
      "cell_type": "code",
      "metadata": {
        "id": "l1Dy-v8vdjaI"
      },
      "source": [
        ""
      ],
      "execution_count": null,
      "outputs": []
    },
    {
      "cell_type": "code",
      "metadata": {
        "colab": {
          "base_uri": "https://localhost:8080/"
        },
        "id": "MDwO7Dx8cY26",
        "outputId": "6cd71982-0d11-47cb-ceb2-48b1f6871762"
      },
      "source": [
        "data_m['ecpm_value']/1000 data_m['installs']"
      ],
      "execution_count": null,
      "outputs": [
        {
          "data": {
            "text/plain": [
              "0         0.000118\n",
              "1         0.000118\n",
              "2         0.000119\n",
              "3         0.000118\n",
              "4         0.000118\n",
              "            ...   \n",
              "835375    0.000096\n",
              "835376    0.000127\n",
              "835377    0.000008\n",
              "835378    0.000006\n",
              "835379    0.000009\n",
              "Length: 835380, dtype: float64"
            ]
          },
          "execution_count": 28,
          "metadata": {},
          "output_type": "execute_result"
        }
      ]
    },
    {
      "cell_type": "code",
      "metadata": {
        "id": "bYac7SNeRFg2"
      },
      "source": [
        "data_m['arpu']"
      ],
      "execution_count": null,
      "outputs": []
    },
    {
      "cell_type": "markdown",
      "metadata": {
        "id": "JKmWiswePYTh"
      },
      "source": [
        "Усппех! \n",
        "Мы создали итоговую таблицу с которой и будем дальше работать!)\n",
        "\n",
        "p.s. было потно но я много чего подчерпнул)"
      ]
    },
    {
      "cell_type": "markdown",
      "metadata": {
        "id": "NM597FUnZqOM"
      },
      "source": [
        "мысли:\n",
        "\n",
        "- после длительного использования пользователи меньше смотрят рекламы\n",
        "- в зависемости от версия приложения пользователи меньше его используют \n",
        "- в разных странах популярны разные версии приложений"
      ]
    },
    {
      "cell_type": "code",
      "metadata": {
        "colab": {
          "base_uri": "https://localhost:8080/",
          "height": 281
        },
        "id": "Puoeh9KQYkcV",
        "outputId": "9f5cc9da-1be4-4e2a-829d-ebfc55def3c6"
      },
      "source": [
        "data_m['version'].hist(bins=25) "
      ],
      "execution_count": null,
      "outputs": [
        {
          "data": {
            "text/plain": [
              "<matplotlib.axes._subplots.AxesSubplot at 0x7f65f6157850>"
            ]
          },
          "execution_count": 23,
          "metadata": {},
          "output_type": "execute_result"
        },
        {
          "data": {
            "image/png": "[encoded data removed]",
            "text/plain": [
              "<Figure size 432x288 with 1 Axes>"
            ]
          },
          "metadata": {},
          "output_type": "display_data"
        }
      ]
    },
    {
      "cell_type": "code",
      "metadata": {
        "colab": {
          "base_uri": "https://localhost:8080/",
          "height": 281
        },
        "id": "-HLTzYeCFw69",
        "outputId": "369a4d6b-15c9-443e-8a98-1edfcb18d7fd"
      },
      "source": [
        "data_m['network'].hist(bins=6)"
      ],
      "execution_count": null,
      "outputs": [
        {
          "data": {
            "text/plain": [
              "<matplotlib.axes._subplots.AxesSubplot at 0x7f17d7022290>"
            ]
          },
          "execution_count": 102,
          "metadata": {},
          "output_type": "execute_result"
        },
        {
          "data": {
            "image/png": "[encoded data removed]",
            "text/plain": [
              "<Figure size 432x288 with 1 Axes>"
            ]
          },
          "metadata": {},
          "output_type": "display_data"
        }
      ]
    },
    {
      "cell_type": "code",
      "metadata": {
        "colab": {
          "base_uri": "https://localhost:8080/",
          "height": 281
        },
        "id": "kFDqHUc4m6fV",
        "outputId": "9fc88cdb-285f-40f6-bbae-3328ead4b895"
      },
      "source": [
        "data_m['app'].hist(bins=3) "
      ],
      "execution_count": null,
      "outputs": [
        {
          "data": {
            "text/plain": [
              "<matplotlib.axes._subplots.AxesSubplot at 0x7f17d6f4dad0>"
            ]
          },
          "execution_count": 104,
          "metadata": {},
          "output_type": "execute_result"
        },
        {
          "data": {
            "image/png": "[encoded data removed]",
            "text/plain": [
              "<Figure size 432x288 with 1 Axes>"
            ]
          },
          "metadata": {},
          "output_type": "display_data"
        }
      ]
    },
    {
      "cell_type": "code",
      "metadata": {
        "colab": {
          "base_uri": "https://localhost:8080/",
          "height": 281
        },
        "id": "LLtZjrYqOqHz",
        "outputId": "78002e90-1670-42c3-ab14-749258a7acb7"
      },
      "source": [
        "data_m['country'].hist(bins=50) "
      ],
      "execution_count": null,
      "outputs": [
        {
          "data": {
            "text/plain": [
              "<matplotlib.axes._subplots.AxesSubplot at 0x7f17d65bc510>"
            ]
          },
          "execution_count": 108,
          "metadata": {},
          "output_type": "execute_result"
        },
        {
          "data": {
            "image/png": "[encoded data removed]",
            "text/plain": [
              "<Figure size 432x288 with 1 Axes>"
            ]
          },
          "metadata": {},
          "output_type": "display_data"
        }
      ]
    },
    {
      "cell_type": "code",
      "metadata": {
        "colab": {
          "base_uri": "https://localhost:8080/",
          "height": 281
        },
        "id": "YCRlT5u3T6PQ",
        "outputId": "b2985c07-8a70-44a6-9e1c-135cd017b1c1"
      },
      "source": [
        "data_m['actual_date'].hist(bins=90)  "
      ],
      "execution_count": null,
      "outputs": [
        {
          "data": {
            "text/plain": [
              "<matplotlib.axes._subplots.AxesSubplot at 0x7f17d44d6d90>"
            ]
          },
          "execution_count": 114,
          "metadata": {},
          "output_type": "execute_result"
        },
        {
          "data": {
            "image/png": "[encoded data removed]",
            "text/plain": [
              "<Figure size 432x288 with 1 Axes>"
            ]
          },
          "metadata": {},
          "output_type": "display_data"
        }
      ]
    },
    {
      "cell_type": "code",
      "metadata": {
        "colab": {
          "base_uri": "https://localhost:8080/",
          "height": 281
        },
        "id": "KI_PUrciUE0K",
        "outputId": "2ff84cc6-3972-412a-dfd9-8aac8f5653f3"
      },
      "source": [
        "data_m['ecpm_value'].hist(bins=90)   "
      ],
      "execution_count": null,
      "outputs": [
        {
          "data": {
            "text/plain": [
              "<matplotlib.axes._subplots.AxesSubplot at 0x7f17c78cd6d0>"
            ]
          },
          "execution_count": 125,
          "metadata": {},
          "output_type": "execute_result"
        },
        {
          "data": {
            "image/png": "[encoded data removed]",
            "text/plain": [
              "<Figure size 432x288 with 1 Axes>"
            ]
          },
          "metadata": {},
          "output_type": "display_data"
        }
      ]
    },
    {
      "cell_type": "code",
      "metadata": {
        "colab": {
          "base_uri": "https://localhost:8080/",
          "height": 296
        },
        "id": "P3tSN57WXdDs",
        "outputId": "9e96b34b-f755-4b54-d575-d39be969271c"
      },
      "source": [
        "sns.histplot(data=data_m, x=\"ecpm_value\", binwidth=0.05)"
      ],
      "execution_count": null,
      "outputs": [
        {
          "data": {
            "text/plain": [
              "<matplotlib.axes._subplots.AxesSubplot at 0x7f65f204a890>"
            ]
          },
          "execution_count": 30,
          "metadata": {},
          "output_type": "execute_result"
        },
        {
          "data": {
            "image/png": "[encoded data removed]",
            "text/plain": [
              "<Figure size 432x288 with 1 Axes>"
            ]
          },
          "metadata": {},
          "output_type": "display_data"
        }
      ]
    },
    {
      "cell_type": "code",
      "metadata": {
        "colab": {
          "base_uri": "https://localhost:8080/",
          "height": 202
        },
        "id": "kJshUtgV3oxf",
        "outputId": "87af2d1d-fd74-4103-ed21-383a4acea2f6"
      },
      "source": [
        "data_m.head()"
      ],
      "execution_count": null,
      "outputs": [
        {
          "data": {
            "text/html": [
              "<div>\n",
              "<style scoped>\n",
              "    .dataframe tbody tr th:only-of-type {\n",
              "        vertical-align: middle;\n",
              "    }\n",
              "\n",
              "    .dataframe tbody tr th {\n",
              "        vertical-align: top;\n",
              "    }\n",
              "\n",
              "    .dataframe thead th {\n",
              "        text-align: right;\n",
              "    }\n",
              "</style>\n",
              "<table border=\"1\" class=\"dataframe\">\n",
              "  <thead>\n",
              "    <tr style=\"text-align: right;\">\n",
              "      <th></th>\n",
              "      <th>Unnamed: 0</th>\n",
              "      <th>date</th>\n",
              "      <th>app</th>\n",
              "      <th>version</th>\n",
              "      <th>network</th>\n",
              "      <th>event_type</th>\n",
              "      <th>installs</th>\n",
              "      <th>days_after_installs</th>\n",
              "      <th>country</th>\n",
              "      <th>events_amount</th>\n",
              "      <th>day</th>\n",
              "      <th>actual_date</th>\n",
              "      <th>ecpm_value</th>\n",
              "    </tr>\n",
              "  </thead>\n",
              "  <tbody>\n",
              "    <tr>\n",
              "      <th>0</th>\n",
              "      <td>0</td>\n",
              "      <td>2021-06-30 14:25:35.063117</td>\n",
              "      <td>awesome app A</td>\n",
              "      <td>1.0</td>\n",
              "      <td>AdNetwork P</td>\n",
              "      <td>interstitial</td>\n",
              "      <td>95897</td>\n",
              "      <td>0</td>\n",
              "      <td>US</td>\n",
              "      <td>757128.0</td>\n",
              "      <td>2021-06-30 14:25:35.063117</td>\n",
              "      <td>2021-06-30</td>\n",
              "      <td>11.344681</td>\n",
              "    </tr>\n",
              "    <tr>\n",
              "      <th>1</th>\n",
              "      <td>1</td>\n",
              "      <td>2021-06-29 14:25:35.063117</td>\n",
              "      <td>awesome app A</td>\n",
              "      <td>1.0</td>\n",
              "      <td>AdNetwork P</td>\n",
              "      <td>interstitial</td>\n",
              "      <td>95792</td>\n",
              "      <td>1</td>\n",
              "      <td>US</td>\n",
              "      <td>635731.0</td>\n",
              "      <td>2021-06-30 14:25:35.063117</td>\n",
              "      <td>2021-06-30</td>\n",
              "      <td>11.344681</td>\n",
              "    </tr>\n",
              "    <tr>\n",
              "      <th>2</th>\n",
              "      <td>2</td>\n",
              "      <td>2021-06-28 14:25:35.063117</td>\n",
              "      <td>awesome app A</td>\n",
              "      <td>1.0</td>\n",
              "      <td>AdNetwork P</td>\n",
              "      <td>interstitial</td>\n",
              "      <td>95542</td>\n",
              "      <td>2</td>\n",
              "      <td>US</td>\n",
              "      <td>624999.0</td>\n",
              "      <td>2021-06-30 14:25:35.063117</td>\n",
              "      <td>2021-06-30</td>\n",
              "      <td>11.344681</td>\n",
              "    </tr>\n",
              "    <tr>\n",
              "      <th>3</th>\n",
              "      <td>3</td>\n",
              "      <td>2021-06-27 14:25:35.063117</td>\n",
              "      <td>awesome app A</td>\n",
              "      <td>1.0</td>\n",
              "      <td>AdNetwork P</td>\n",
              "      <td>interstitial</td>\n",
              "      <td>95896</td>\n",
              "      <td>3</td>\n",
              "      <td>US</td>\n",
              "      <td>675012.0</td>\n",
              "      <td>2021-06-30 14:25:35.063117</td>\n",
              "      <td>2021-06-30</td>\n",
              "      <td>11.344681</td>\n",
              "    </tr>\n",
              "    <tr>\n",
              "      <th>4</th>\n",
              "      <td>4</td>\n",
              "      <td>2021-06-26 14:25:35.063117</td>\n",
              "      <td>awesome app A</td>\n",
              "      <td>1.0</td>\n",
              "      <td>AdNetwork P</td>\n",
              "      <td>interstitial</td>\n",
              "      <td>96081</td>\n",
              "      <td>4</td>\n",
              "      <td>US</td>\n",
              "      <td>466941.0</td>\n",
              "      <td>2021-06-30 14:25:35.063117</td>\n",
              "      <td>2021-06-30</td>\n",
              "      <td>11.344681</td>\n",
              "    </tr>\n",
              "  </tbody>\n",
              "</table>\n",
              "</div>"
            ],
            "text/plain": [
              "   Unnamed: 0                        date  ... actual_date  ecpm_value\n",
              "0           0  2021-06-30 14:25:35.063117  ...  2021-06-30   11.344681\n",
              "1           1  2021-06-29 14:25:35.063117  ...  2021-06-30   11.344681\n",
              "2           2  2021-06-28 14:25:35.063117  ...  2021-06-30   11.344681\n",
              "3           3  2021-06-27 14:25:35.063117  ...  2021-06-30   11.344681\n",
              "4           4  2021-06-26 14:25:35.063117  ...  2021-06-30   11.344681\n",
              "\n",
              "[5 rows x 13 columns]"
            ]
          },
          "execution_count": 32,
          "metadata": {},
          "output_type": "execute_result"
        }
      ]
    },
    {
      "cell_type": "code",
      "metadata": {
        "colab": {
          "base_uri": "https://localhost:8080/",
          "height": 385
        },
        "id": "EZH745AKfuHh",
        "outputId": "48d9a694-3d4e-4e86-cd77-9d01514e6012"
      },
      "source": [
        "sns.relplot(\n",
        "    data=data_m, kind=\"line\"\n",
        ")"
      ],
      "execution_count": null,
      "outputs": [
        {
          "data": {
            "text/plain": [
              "<seaborn.axisgrid.FacetGrid at 0x7f65f0653110>"
            ]
          },
          "execution_count": 62,
          "metadata": {},
          "output_type": "execute_result"
        },
        {
          "data": {
            "image/png": "[encoded data removed]",
            "text/plain": [
              "<Figure size 488.875x360 with 1 Axes>"
            ]
          },
          "metadata": {},
          "output_type": "display_data"
        }
      ]
    },
    {
      "cell_type": "code",
      "metadata": {
        "colab": {
          "base_uri": "https://localhost:8080/",
          "height": 356
        },
        "id": "lHE3r-4b3C6d",
        "outputId": "ce1a281d-dcfa-4740-b280-cec4e7229167"
      },
      "source": [
        "sns.barplot(\n",
        "    x=\"event_type\", \n",
        "    y=\"installs\", \n",
        "    hue=\"country\", \n",
        "    ci=None,\n",
        "    data=data_m\n",
        ")"
      ],
      "execution_count": null,
      "outputs": [
        {
          "data": {
            "text/plain": [
              "<matplotlib.axes._subplots.AxesSubplot at 0x7f65eff29a50>"
            ]
          },
          "execution_count": 55,
          "metadata": {},
          "output_type": "execute_result"
        },
        {
          "data": {
            "image/png": "[encoded data removed]",
            "text/plain": [
              "<Figure size 432x288 with 1 Axes>"
            ]
          },
          "metadata": {},
          "output_type": "display_data"
        }
      ]
    },
    {
      "cell_type": "code",
      "metadata": {
        "colab": {
          "base_uri": "https://localhost:8080/",
          "height": 401
        },
        "id": "E1i8A-nJ9fCu",
        "outputId": "10c22a45-26be-48d9-b835-06b99d8bb383"
      },
      "source": [
        "sns.relplot(x=data_m[data_m.event_type=='interstitial'].event_type, y=data_m.installs)"
      ],
      "execution_count": null,
      "outputs": [
        {
          "data": {
            "text/plain": [
              "<seaborn.axisgrid.FacetGrid at 0x7f65effbe850>"
            ]
          },
          "execution_count": 75,
          "metadata": {},
          "output_type": "execute_result"
        },
        {
          "data": {
            "image/png": "[encoded data removed]",
            "text/plain": [
              "<Figure size 360x360 with 1 Axes>"
            ]
          },
          "metadata": {},
          "output_type": "display_data"
        }
      ]
    },
    {
      "cell_type": "code",
      "metadata": {
        "id": "dOu4nayZj-r7"
      },
      "source": [
        ""
      ],
      "execution_count": null,
      "outputs": []
    }
  ]
}